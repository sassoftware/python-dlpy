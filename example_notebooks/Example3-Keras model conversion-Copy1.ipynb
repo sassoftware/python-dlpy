{
 "cells": [
  {
   "cell_type": "markdown",
   "metadata": {},
   "source": [
    "# Keras Model Conversion"
   ]
  },
  {
   "cell_type": "code",
   "execution_count": 1,
   "metadata": {
    "collapsed": true
   },
   "outputs": [],
   "source": [
    "%matplotlib inline"
   ]
  },
  {
   "cell_type": "code",
   "execution_count": 2,
   "metadata": {
    "collapsed": true
   },
   "outputs": [],
   "source": [
    "# You need to specify the following variables according your own configuration.\n",
    "import os \n",
    "host = os.environ['CASHOST']\n",
    "port = os.environ['CASPORT']\n",
    "userid = None\n",
    "password = None"
   ]
  },
  {
   "cell_type": "code",
   "execution_count": 5,
   "metadata": {
    "collapsed": false
   },
   "outputs": [],
   "source": [
    "port=14931"
   ]
  },
  {
   "cell_type": "code",
   "execution_count": 6,
   "metadata": {
    "collapsed": false,
    "scrolled": true
   },
   "outputs": [
    {
     "ename": "ValueError",
     "evalue": "The extensions for the binary protocol have not been installed.  You can either install them using the full platform-dependent install file, or use the REST interface as an alternative.",
     "output_type": "error",
     "traceback": [
      "\u001b[0;31m---------------------------------------------------------------------------\u001b[0m",
      "\u001b[0;31mValueError\u001b[0m                                Traceback (most recent call last)",
      "\u001b[0;32m<ipython-input-6-f9ce55c947ea>\u001b[0m in \u001b[0;36m<module>\u001b[0;34m()\u001b[0m\n\u001b[1;32m      1\u001b[0m \u001b[1;31m# needed to start a CAS server.\u001b[0m\u001b[1;33m\u001b[0m\u001b[1;33m\u001b[0m\u001b[0m\n\u001b[1;32m      2\u001b[0m \u001b[1;32mfrom\u001b[0m \u001b[0mswat\u001b[0m \u001b[1;32mimport\u001b[0m \u001b[1;33m*\u001b[0m\u001b[1;33m\u001b[0m\u001b[0m\n\u001b[0;32m----> 3\u001b[0;31m \u001b[0msess\u001b[0m \u001b[1;33m=\u001b[0m \u001b[0mCAS\u001b[0m\u001b[1;33m(\u001b[0m\u001b[0mhost\u001b[0m\u001b[1;33m,\u001b[0m \u001b[0mport\u001b[0m\u001b[1;33m,\u001b[0m\u001b[0muserid\u001b[0m\u001b[1;33m,\u001b[0m \u001b[0mpassword\u001b[0m\u001b[1;33m)\u001b[0m\u001b[1;33m\u001b[0m\u001b[0m\n\u001b[0m",
      "\u001b[0;32mC:\\Users\\leliuz\\AppData\\Local\\Continuum\\Anaconda3\\lib\\site-packages\\swat\\cas\\connection.py\u001b[0m in \u001b[0;36m__init__\u001b[0;34m(self, hostname, port, username, password, session, locale, nworkers, name, authinfo, protocol, **kwargs)\u001b[0m\n\u001b[1;32m    252\u001b[0m                 \u001b[0mself\u001b[0m\u001b[1;33m.\u001b[0m\u001b[0m_sw_error\u001b[0m \u001b[1;33m=\u001b[0m \u001b[0mrest\u001b[0m\u001b[1;33m.\u001b[0m\u001b[0mREST_CASError\u001b[0m\u001b[1;33m(\u001b[0m\u001b[0ma2n\u001b[0m\u001b[1;33m(\u001b[0m\u001b[0msoptions\u001b[0m\u001b[1;33m)\u001b[0m\u001b[1;33m)\u001b[0m\u001b[1;33m\u001b[0m\u001b[0m\n\u001b[1;32m    253\u001b[0m             \u001b[1;32melse\u001b[0m\u001b[1;33m:\u001b[0m\u001b[1;33m\u001b[0m\u001b[0m\n\u001b[0;32m--> 254\u001b[0;31m                 \u001b[0mself\u001b[0m\u001b[1;33m.\u001b[0m\u001b[0m_sw_error\u001b[0m \u001b[1;33m=\u001b[0m \u001b[0mclib\u001b[0m\u001b[1;33m.\u001b[0m\u001b[0mSW_CASError\u001b[0m\u001b[1;33m(\u001b[0m\u001b[0ma2n\u001b[0m\u001b[1;33m(\u001b[0m\u001b[0msoptions\u001b[0m\u001b[1;33m)\u001b[0m\u001b[1;33m)\u001b[0m\u001b[1;33m\u001b[0m\u001b[0m\n\u001b[0m\u001b[1;32m    255\u001b[0m         \u001b[1;32mexcept\u001b[0m \u001b[0mSystemError\u001b[0m\u001b[1;33m:\u001b[0m\u001b[1;33m\u001b[0m\u001b[0m\n\u001b[1;32m    256\u001b[0m             raise SWATError('Could not create CAS error handler object. '\n",
      "\u001b[0;32mC:\\Users\\leliuz\\AppData\\Local\\Continuum\\Anaconda3\\lib\\site-packages\\swat\\clib.py\u001b[0m in \u001b[0;36mSW_CASError\u001b[0;34m(*args, **kwargs)\u001b[0m\n\u001b[1;32m    118\u001b[0m     \u001b[1;34m''' Return a CASError (importing _pyswat as needed) '''\u001b[0m\u001b[1;33m\u001b[0m\u001b[0m\n\u001b[1;32m    119\u001b[0m     \u001b[1;32mif\u001b[0m \u001b[0m_pyswat\u001b[0m \u001b[1;32mis\u001b[0m \u001b[1;32mNone\u001b[0m\u001b[1;33m:\u001b[0m\u001b[1;33m\u001b[0m\u001b[0m\n\u001b[0;32m--> 120\u001b[0;31m         \u001b[0m_import_pyswat\u001b[0m\u001b[1;33m(\u001b[0m\u001b[1;33m)\u001b[0m\u001b[1;33m\u001b[0m\u001b[0m\n\u001b[0m\u001b[1;32m    121\u001b[0m     \u001b[1;32mreturn\u001b[0m \u001b[0m_pyswat\u001b[0m\u001b[1;33m.\u001b[0m\u001b[0mSW_CASError\u001b[0m\u001b[1;33m(\u001b[0m\u001b[1;33m*\u001b[0m\u001b[0margs\u001b[0m\u001b[1;33m,\u001b[0m \u001b[1;33m**\u001b[0m\u001b[0mkwargs\u001b[0m\u001b[1;33m)\u001b[0m\u001b[1;33m\u001b[0m\u001b[0m\n\u001b[1;32m    122\u001b[0m \u001b[1;33m\u001b[0m\u001b[0m\n",
      "\u001b[0;32mC:\\Users\\leliuz\\AppData\\Local\\Continuum\\Anaconda3\\lib\\site-packages\\swat\\clib.py\u001b[0m in \u001b[0;36m_import_pyswat\u001b[0;34m()\u001b[0m\n\u001b[1;32m     63\u001b[0m     if not glob.glob(os.path.join(os.path.dirname(__file__), 'lib',\n\u001b[1;32m     64\u001b[0m                                   platform, libname + '.*')):\n\u001b[0;32m---> 65\u001b[0;31m         raise ValueError('The extensions for the binary protocol have not been '\n\u001b[0m\u001b[1;32m     66\u001b[0m                          \u001b[1;34m'installed.  You can either install them using the full '\u001b[0m\u001b[1;33m\u001b[0m\u001b[0m\n\u001b[1;32m     67\u001b[0m                          \u001b[1;34m'platform-dependent install file, or use the REST interface '\u001b[0m\u001b[1;33m\u001b[0m\u001b[0m\n",
      "\u001b[0;31mValueError\u001b[0m: The extensions for the binary protocol have not been installed.  You can either install them using the full platform-dependent install file, or use the REST interface as an alternative."
     ]
    }
   ],
   "source": [
    "# needed to start a CAS server.\n",
    "from swat import * \n",
    "sess = CAS(host, port,userid, password)"
   ]
  },
  {
   "cell_type": "markdown",
   "metadata": {},
   "source": [
    "### Define a MNIST classification model in Keras"
   ]
  },
  {
   "cell_type": "code",
   "execution_count": 4,
   "metadata": {
    "collapsed": false
   },
   "outputs": [
    {
     "name": "stderr",
     "output_type": "stream",
     "text": [
      "Using TensorFlow backend.\n"
     ]
    }
   ],
   "source": [
    "from keras import Sequential\n",
    "from keras.layers import *"
   ]
  },
  {
   "cell_type": "code",
   "execution_count": 5,
   "metadata": {
    "collapsed": false
   },
   "outputs": [],
   "source": [
    "model = Sequential()\n",
    "model.add(Conv2D(32, kernel_size=(5, 5), strides=(1, 1),\n",
    "                 activation='relu',padding='same',\n",
    "                 input_shape=(28,28,1)))\n",
    "model.add(MaxPooling2D(pool_size=(2, 2), padding='same', strides=(2, 2)))\n",
    "model.add(Conv2D(64, (5, 5), padding='same', activation='relu'))\n",
    "model.add(MaxPooling2D(pool_size=(2, 2), padding='same'))\n",
    "model.add(Flatten())\n",
    "model.add(Dense(1000, activation='relu'))\n",
    "model.add(Dense(10, activation='softmax'))"
   ]
  },
  {
   "cell_type": "markdown",
   "metadata": {},
   "source": [
    "**Note:** DLPy now only support for padding='same'."
   ]
  },
  {
   "cell_type": "code",
   "execution_count": 6,
   "metadata": {
    "collapsed": false
   },
   "outputs": [
    {
     "name": "stdout",
     "output_type": "stream",
     "text": [
      "_________________________________________________________________\n",
      "Layer (type)                 Output Shape              Param #   \n",
      "=================================================================\n",
      "conv2d_1 (Conv2D)            (None, 28, 28, 32)        832       \n",
      "_________________________________________________________________\n",
      "max_pooling2d_1 (MaxPooling2 (None, 14, 14, 32)        0         \n",
      "_________________________________________________________________\n",
      "conv2d_2 (Conv2D)            (None, 14, 14, 64)        51264     \n",
      "_________________________________________________________________\n",
      "max_pooling2d_2 (MaxPooling2 (None, 7, 7, 64)          0         \n",
      "_________________________________________________________________\n",
      "flatten_1 (Flatten)          (None, 3136)              0         \n",
      "_________________________________________________________________\n",
      "dense_1 (Dense)              (None, 1000)              3137000   \n",
      "_________________________________________________________________\n",
      "dense_2 (Dense)              (None, 10)                10010     \n",
      "=================================================================\n",
      "Total params: 3,199,106\n",
      "Trainable params: 3,199,106\n",
      "Non-trainable params: 0\n",
      "_________________________________________________________________\n"
     ]
    }
   ],
   "source": [
    "model.summary()"
   ]
  },
  {
   "cell_type": "markdown",
   "metadata": {},
   "source": [
    "### Convert Keras model to DLPy model"
   ]
  },
  {
   "cell_type": "code",
   "execution_count": 7,
   "metadata": {
    "collapsed": false
   },
   "outputs": [],
   "source": [
    "from dlpy import Model"
   ]
  },
  {
   "cell_type": "code",
   "execution_count": 8,
   "metadata": {
    "collapsed": false,
    "scrolled": true
   },
   "outputs": [
    {
     "name": "stdout",
     "output_type": "stream",
     "text": [
      "NOTE: Added action set 'deeplearn'.\n",
      "NOTE : Model table is attached successfully!\n",
      "NOTE : Model is named to \"converted_keras_model\" according to the model name in the table.\n"
     ]
    }
   ],
   "source": [
    "model1 = Model.from_keras_model(conn=sess, keras_model=model, output_model_table='converted_keras_model')"
   ]
  },
  {
   "cell_type": "markdown",
   "metadata": {},
   "source": [
    "### Now model1 is a DLPy model, fully supporting all the function in DLPy."
   ]
  },
  {
   "cell_type": "code",
   "execution_count": 9,
   "metadata": {
    "collapsed": false
   },
   "outputs": [
    {
     "name": "stdout",
     "output_type": "stream",
     "text": [
      "*==================*===============*========*============*=================*======================*\n",
      "|   Layer (Type)   |  Kernel Size  | Stride | Activation |   Output Size   | Number of Parameters |\n",
      "*------------------*---------------*--------*------------*-----------------*----------------------*\n",
      "| conv2d_1_input...|     None      |  None  |    None    |   (28, 28, 1)   |        0 / 0         |\n",
      "| conv2d_1(Convo.) |    (5, 5)     |   1    | Rectifier  |  (28, 28, 32)   |       800 / 32       |\n",
      "| max_pooling2d_...|    (2, 2)     |   2    |    Max     |  (14, 14, 32)   |        0 / 0         |\n",
      "| conv2d_2(Convo.) |    (5, 5)     |   1    | Rectifier  |  (14, 14, 64)   |      51200 / 64      |\n",
      "| max_pooling2d_...|    (2, 2)     |   2    |    Max     |   (7, 7, 64)    |        0 / 0         |\n",
      "| dense_1(F.C.)    | (3136, 1000)  |  None  | Rectifier  |      1000       |    3136000 / 1000    |\n",
      "| dense_2(Output)  |  (1000, 10)   |  None  |  Softmax   |       10        |      10000 / 10      |\n",
      "*==================*===============*========*============*=================*======================*\n",
      "|Total Number of Parameters: 3,199,106                                                            |\n",
      "*=================================================================================================*\n"
     ]
    }
   ],
   "source": [
    "model1.print_summary()"
   ]
  },
  {
   "cell_type": "code",
   "execution_count": 10,
   "metadata": {
    "collapsed": false
   },
   "outputs": [
    {
     "data": {
      "image/svg+xml": [
       "<?xml version=\"1.0\" encoding=\"UTF-8\" standalone=\"no\"?>\r\n",
       "<!DOCTYPE svg PUBLIC \"-//W3C//DTD SVG 1.1//EN\"\r\n",
       " \"http://www.w3.org/Graphics/SVG/1.1/DTD/svg11.dtd\">\r\n",
       "<!-- Generated by graphviz version 2.38.0 (20140413.2041)\r\n",
       " -->\r\n",
       "<!-- Title: converted_keras_model Pages: 1 -->\r\n",
       "<svg width=\"300pt\" height=\"667pt\"\r\n",
       " viewBox=\"0.00 0.00 300.00 667.00\" xmlns=\"http://www.w3.org/2000/svg\" xmlns:xlink=\"http://www.w3.org/1999/xlink\">\r\n",
       "<g id=\"graph0\" class=\"graph\" transform=\"scale(1 1) rotate(0) translate(4 663)\">\r\n",
       "<title>converted_keras_model</title>\r\n",
       "<polygon fill=\"white\" stroke=\"none\" points=\"-4,4 -4,-663 296,-663 296,4 -4,4\"/>\r\n",
       "<text text-anchor=\"middle\" x=\"146\" y=\"-639\" font-family=\"Times New Roman,serif\" font-size=\"20.00\">DAG for converted_keras_model:</text>\r\n",
       "<!-- conv2d_1_input -->\r\n",
       "<g id=\"node1\" class=\"node\"><title>conv2d_1_input</title>\r\n",
       "<path fill=\"#f0ff00\" stroke=\"black\" d=\"M29,-590.5C29,-590.5 263,-590.5 263,-590.5 269,-590.5 275,-596.5 275,-602.5 275,-602.5 275,-616.5 275,-616.5 275,-622.5 269,-628.5 263,-628.5 263,-628.5 29,-628.5 29,-628.5 23,-628.5 17,-622.5 17,-616.5 17,-616.5 17,-602.5 17,-602.5 17,-596.5 23,-590.5 29,-590.5\"/>\r\n",
       "<text text-anchor=\"middle\" x=\"71\" y=\"-613.3\" font-family=\"Times New Roman,serif\" font-size=\"14.00\">conv2d_1_input</text>\r\n",
       "<text text-anchor=\"middle\" x=\"71\" y=\"-598.3\" font-family=\"Times New Roman,serif\" font-size=\"14.00\">(input)</text>\r\n",
       "<polyline fill=\"none\" stroke=\"black\" points=\"125,-590.5 125,-628.5 \"/>\r\n",
       "<text text-anchor=\"middle\" x=\"163\" y=\"-605.8\" font-family=\"Times New Roman,serif\" font-size=\"14.00\">Input Size:</text>\r\n",
       "<polyline fill=\"none\" stroke=\"black\" points=\"201,-590.5 201,-628.5 \"/>\r\n",
       "<text text-anchor=\"middle\" x=\"238\" y=\"-605.8\" font-family=\"Times New Roman,serif\" font-size=\"14.00\">(28, 28, 1)</text>\r\n",
       "</g>\r\n",
       "<!-- conv2d_1 -->\r\n",
       "<g id=\"node2\" class=\"node\"><title>conv2d_1</title>\r\n",
       "<path fill=\"#6cff00\" stroke=\"black\" d=\"M38,-484.5C38,-484.5 254,-484.5 254,-484.5 260,-484.5 266,-490.5 266,-496.5 266,-496.5 266,-541.5 266,-541.5 266,-547.5 260,-553.5 254,-553.5 254,-553.5 38,-553.5 38,-553.5 32,-553.5 26,-547.5 26,-541.5 26,-541.5 26,-496.5 26,-496.5 26,-490.5 32,-484.5 38,-484.5\"/>\r\n",
       "<text text-anchor=\"middle\" x=\"62.5\" y=\"-522.8\" font-family=\"Times New Roman,serif\" font-size=\"14.00\">conv2d_1</text>\r\n",
       "<text text-anchor=\"middle\" x=\"62.5\" y=\"-507.8\" font-family=\"Times New Roman,serif\" font-size=\"14.00\">(convo)</text>\r\n",
       "<polyline fill=\"none\" stroke=\"black\" points=\"99,-484.5 99,-553.5 \"/>\r\n",
       "<text text-anchor=\"middle\" x=\"142\" y=\"-538.3\" font-family=\"Times New Roman,serif\" font-size=\"14.00\">Kernel Size:</text>\r\n",
       "<polyline fill=\"none\" stroke=\"black\" points=\"99,-530.5 185,-530.5 \"/>\r\n",
       "<text text-anchor=\"middle\" x=\"142\" y=\"-515.3\" font-family=\"Times New Roman,serif\" font-size=\"14.00\">Activation:</text>\r\n",
       "<polyline fill=\"none\" stroke=\"black\" points=\"99,-507.5 185,-507.5 \"/>\r\n",
       "<text text-anchor=\"middle\" x=\"142\" y=\"-492.3\" font-family=\"Times New Roman,serif\" font-size=\"14.00\">Output Size:</text>\r\n",
       "<polyline fill=\"none\" stroke=\"black\" points=\"185,-484.5 185,-553.5 \"/>\r\n",
       "<text text-anchor=\"middle\" x=\"225.5\" y=\"-538.3\" font-family=\"Times New Roman,serif\" font-size=\"14.00\">(5, 5)</text>\r\n",
       "<polyline fill=\"none\" stroke=\"black\" points=\"185,-530.5 266,-530.5 \"/>\r\n",
       "<text text-anchor=\"middle\" x=\"225.5\" y=\"-515.3\" font-family=\"Times New Roman,serif\" font-size=\"14.00\">Rectifier</text>\r\n",
       "<polyline fill=\"none\" stroke=\"black\" points=\"185,-507.5 266,-507.5 \"/>\r\n",
       "<text text-anchor=\"middle\" x=\"225.5\" y=\"-492.3\" font-family=\"Times New Roman,serif\" font-size=\"14.00\">(28, 28, 32)</text>\r\n",
       "</g>\r\n",
       "<!-- conv2d_1_input&#45;&gt;conv2d_1 -->\r\n",
       "<g id=\"edge1\" class=\"edge\"><title>conv2d_1_input&#45;&gt;conv2d_1</title>\r\n",
       "<path fill=\"none\" stroke=\"black\" d=\"M146,-590.163C146,-582.429 146,-573.065 146,-563.732\"/>\r\n",
       "<polygon fill=\"black\" stroke=\"black\" points=\"149.5,-563.695 146,-553.695 142.5,-563.695 149.5,-563.695\"/>\r\n",
       "</g>\r\n",
       "<!-- max_pooling2d_1 -->\r\n",
       "<g id=\"node3\" class=\"node\"><title>max_pooling2d_1</title>\r\n",
       "<path fill=\"#ff9700\" stroke=\"black\" d=\"M15.5,-401.5C15.5,-401.5 276.5,-401.5 276.5,-401.5 282.5,-401.5 288.5,-407.5 288.5,-413.5 288.5,-413.5 288.5,-435.5 288.5,-435.5 288.5,-441.5 282.5,-447.5 276.5,-447.5 276.5,-447.5 15.5,-447.5 15.5,-447.5 9.5,-447.5 3.5,-441.5 3.5,-435.5 3.5,-435.5 3.5,-413.5 3.5,-413.5 3.5,-407.5 9.5,-401.5 15.5,-401.5\"/>\r\n",
       "<text text-anchor=\"middle\" x=\"62.5\" y=\"-428.3\" font-family=\"Times New Roman,serif\" font-size=\"14.00\">max_pooling2d_1</text>\r\n",
       "<text text-anchor=\"middle\" x=\"62.5\" y=\"-413.3\" font-family=\"Times New Roman,serif\" font-size=\"14.00\">(pool)</text>\r\n",
       "<polyline fill=\"none\" stroke=\"black\" points=\"121.5,-401.5 121.5,-447.5 \"/>\r\n",
       "<text text-anchor=\"middle\" x=\"164.5\" y=\"-432.3\" font-family=\"Times New Roman,serif\" font-size=\"14.00\">Kernel Size:</text>\r\n",
       "<polyline fill=\"none\" stroke=\"black\" points=\"121.5,-424.5 207.5,-424.5 \"/>\r\n",
       "<text text-anchor=\"middle\" x=\"164.5\" y=\"-409.3\" font-family=\"Times New Roman,serif\" font-size=\"14.00\">Output Size:</text>\r\n",
       "<polyline fill=\"none\" stroke=\"black\" points=\"207.5,-401.5 207.5,-447.5 \"/>\r\n",
       "<text text-anchor=\"middle\" x=\"248\" y=\"-432.3\" font-family=\"Times New Roman,serif\" font-size=\"14.00\">(2, 2)</text>\r\n",
       "<polyline fill=\"none\" stroke=\"black\" points=\"207.5,-424.5 288.5,-424.5 \"/>\r\n",
       "<text text-anchor=\"middle\" x=\"248\" y=\"-409.3\" font-family=\"Times New Roman,serif\" font-size=\"14.00\">(14, 14, 32)</text>\r\n",
       "</g>\r\n",
       "<!-- conv2d_1&#45;&gt;max_pooling2d_1 -->\r\n",
       "<g id=\"edge2\" class=\"edge\"><title>conv2d_1&#45;&gt;max_pooling2d_1</title>\r\n",
       "<path fill=\"none\" stroke=\"black\" d=\"M146,-484.344C146,-475.677 146,-466.371 146,-457.776\"/>\r\n",
       "<polygon fill=\"black\" stroke=\"black\" points=\"149.5,-457.735 146,-447.735 142.5,-457.735 149.5,-457.735\"/>\r\n",
       "</g>\r\n",
       "<!-- conv2d_2 -->\r\n",
       "<g id=\"node4\" class=\"node\"><title>conv2d_2</title>\r\n",
       "<path fill=\"#6cff00\" stroke=\"black\" d=\"M38,-295.5C38,-295.5 254,-295.5 254,-295.5 260,-295.5 266,-301.5 266,-307.5 266,-307.5 266,-352.5 266,-352.5 266,-358.5 260,-364.5 254,-364.5 254,-364.5 38,-364.5 38,-364.5 32,-364.5 26,-358.5 26,-352.5 26,-352.5 26,-307.5 26,-307.5 26,-301.5 32,-295.5 38,-295.5\"/>\r\n",
       "<text text-anchor=\"middle\" x=\"62.5\" y=\"-333.8\" font-family=\"Times New Roman,serif\" font-size=\"14.00\">conv2d_2</text>\r\n",
       "<text text-anchor=\"middle\" x=\"62.5\" y=\"-318.8\" font-family=\"Times New Roman,serif\" font-size=\"14.00\">(convo)</text>\r\n",
       "<polyline fill=\"none\" stroke=\"black\" points=\"99,-295.5 99,-364.5 \"/>\r\n",
       "<text text-anchor=\"middle\" x=\"142\" y=\"-349.3\" font-family=\"Times New Roman,serif\" font-size=\"14.00\">Kernel Size:</text>\r\n",
       "<polyline fill=\"none\" stroke=\"black\" points=\"99,-341.5 185,-341.5 \"/>\r\n",
       "<text text-anchor=\"middle\" x=\"142\" y=\"-326.3\" font-family=\"Times New Roman,serif\" font-size=\"14.00\">Activation:</text>\r\n",
       "<polyline fill=\"none\" stroke=\"black\" points=\"99,-318.5 185,-318.5 \"/>\r\n",
       "<text text-anchor=\"middle\" x=\"142\" y=\"-303.3\" font-family=\"Times New Roman,serif\" font-size=\"14.00\">Output Size:</text>\r\n",
       "<polyline fill=\"none\" stroke=\"black\" points=\"185,-295.5 185,-364.5 \"/>\r\n",
       "<text text-anchor=\"middle\" x=\"225.5\" y=\"-349.3\" font-family=\"Times New Roman,serif\" font-size=\"14.00\">(5, 5)</text>\r\n",
       "<polyline fill=\"none\" stroke=\"black\" points=\"185,-341.5 266,-341.5 \"/>\r\n",
       "<text text-anchor=\"middle\" x=\"225.5\" y=\"-326.3\" font-family=\"Times New Roman,serif\" font-size=\"14.00\">Rectifier</text>\r\n",
       "<polyline fill=\"none\" stroke=\"black\" points=\"185,-318.5 266,-318.5 \"/>\r\n",
       "<text text-anchor=\"middle\" x=\"225.5\" y=\"-303.3\" font-family=\"Times New Roman,serif\" font-size=\"14.00\">(14, 14, 64)</text>\r\n",
       "</g>\r\n",
       "<!-- max_pooling2d_1&#45;&gt;conv2d_2 -->\r\n",
       "<g id=\"edge3\" class=\"edge\"><title>max_pooling2d_1&#45;&gt;conv2d_2</title>\r\n",
       "<path fill=\"none\" stroke=\"black\" d=\"M146,-401.108C146,-393.183 146,-383.971 146,-374.882\"/>\r\n",
       "<polygon fill=\"black\" stroke=\"black\" points=\"149.5,-374.746 146,-364.746 142.5,-374.746 149.5,-374.746\"/>\r\n",
       "</g>\r\n",
       "<!-- max_pooling2d_2 -->\r\n",
       "<g id=\"node5\" class=\"node\"><title>max_pooling2d_2</title>\r\n",
       "<path fill=\"#ff9700\" stroke=\"black\" d=\"M22,-212.5C22,-212.5 270,-212.5 270,-212.5 276,-212.5 282,-218.5 282,-224.5 282,-224.5 282,-246.5 282,-246.5 282,-252.5 276,-258.5 270,-258.5 270,-258.5 22,-258.5 22,-258.5 16,-258.5 10,-252.5 10,-246.5 10,-246.5 10,-224.5 10,-224.5 10,-218.5 16,-212.5 22,-212.5\"/>\r\n",
       "<text text-anchor=\"middle\" x=\"69\" y=\"-239.3\" font-family=\"Times New Roman,serif\" font-size=\"14.00\">max_pooling2d_2</text>\r\n",
       "<text text-anchor=\"middle\" x=\"69\" y=\"-224.3\" font-family=\"Times New Roman,serif\" font-size=\"14.00\">(pool)</text>\r\n",
       "<polyline fill=\"none\" stroke=\"black\" points=\"128,-212.5 128,-258.5 \"/>\r\n",
       "<text text-anchor=\"middle\" x=\"171\" y=\"-243.3\" font-family=\"Times New Roman,serif\" font-size=\"14.00\">Kernel Size:</text>\r\n",
       "<polyline fill=\"none\" stroke=\"black\" points=\"128,-235.5 214,-235.5 \"/>\r\n",
       "<text text-anchor=\"middle\" x=\"171\" y=\"-220.3\" font-family=\"Times New Roman,serif\" font-size=\"14.00\">Output Size:</text>\r\n",
       "<polyline fill=\"none\" stroke=\"black\" points=\"214,-212.5 214,-258.5 \"/>\r\n",
       "<text text-anchor=\"middle\" x=\"248\" y=\"-243.3\" font-family=\"Times New Roman,serif\" font-size=\"14.00\">(2, 2)</text>\r\n",
       "<polyline fill=\"none\" stroke=\"black\" points=\"214,-235.5 282,-235.5 \"/>\r\n",
       "<text text-anchor=\"middle\" x=\"248\" y=\"-220.3\" font-family=\"Times New Roman,serif\" font-size=\"14.00\">(7, 7, 64)</text>\r\n",
       "</g>\r\n",
       "<!-- conv2d_2&#45;&gt;max_pooling2d_2 -->\r\n",
       "<g id=\"edge4\" class=\"edge\"><title>conv2d_2&#45;&gt;max_pooling2d_2</title>\r\n",
       "<path fill=\"none\" stroke=\"black\" d=\"M146,-295.344C146,-286.677 146,-277.371 146,-268.776\"/>\r\n",
       "<polygon fill=\"black\" stroke=\"black\" points=\"149.5,-268.735 146,-258.735 142.5,-268.735 149.5,-268.735\"/>\r\n",
       "</g>\r\n",
       "<!-- dense_1 -->\r\n",
       "<g id=\"node6\" class=\"node\"><title>dense_1</title>\r\n",
       "<path fill=\"#00ecff\" stroke=\"black\" d=\"M40,-106.5C40,-106.5 252,-106.5 252,-106.5 258,-106.5 264,-112.5 264,-118.5 264,-118.5 264,-163.5 264,-163.5 264,-169.5 258,-175.5 252,-175.5 252,-175.5 40,-175.5 40,-175.5 34,-175.5 28,-169.5 28,-163.5 28,-163.5 28,-118.5 28,-118.5 28,-112.5 34,-106.5 40,-106.5\"/>\r\n",
       "<text text-anchor=\"middle\" x=\"59.5\" y=\"-144.8\" font-family=\"Times New Roman,serif\" font-size=\"14.00\">dense_1</text>\r\n",
       "<text text-anchor=\"middle\" x=\"59.5\" y=\"-129.8\" font-family=\"Times New Roman,serif\" font-size=\"14.00\">(fc)</text>\r\n",
       "<polyline fill=\"none\" stroke=\"black\" points=\"91,-106.5 91,-175.5 \"/>\r\n",
       "<text text-anchor=\"middle\" x=\"134\" y=\"-160.3\" font-family=\"Times New Roman,serif\" font-size=\"14.00\">Kernel Size:</text>\r\n",
       "<polyline fill=\"none\" stroke=\"black\" points=\"91,-152.5 177,-152.5 \"/>\r\n",
       "<text text-anchor=\"middle\" x=\"134\" y=\"-137.3\" font-family=\"Times New Roman,serif\" font-size=\"14.00\">Activation:</text>\r\n",
       "<polyline fill=\"none\" stroke=\"black\" points=\"91,-129.5 177,-129.5 \"/>\r\n",
       "<text text-anchor=\"middle\" x=\"134\" y=\"-114.3\" font-family=\"Times New Roman,serif\" font-size=\"14.00\">Output Size:</text>\r\n",
       "<polyline fill=\"none\" stroke=\"black\" points=\"177,-106.5 177,-175.5 \"/>\r\n",
       "<text text-anchor=\"middle\" x=\"220.5\" y=\"-160.3\" font-family=\"Times New Roman,serif\" font-size=\"14.00\">(3136, 1000)</text>\r\n",
       "<polyline fill=\"none\" stroke=\"black\" points=\"177,-152.5 264,-152.5 \"/>\r\n",
       "<text text-anchor=\"middle\" x=\"220.5\" y=\"-137.3\" font-family=\"Times New Roman,serif\" font-size=\"14.00\">Rectifier</text>\r\n",
       "<polyline fill=\"none\" stroke=\"black\" points=\"177,-129.5 264,-129.5 \"/>\r\n",
       "<text text-anchor=\"middle\" x=\"220.5\" y=\"-114.3\" font-family=\"Times New Roman,serif\" font-size=\"14.00\">1000</text>\r\n",
       "</g>\r\n",
       "<!-- max_pooling2d_2&#45;&gt;dense_1 -->\r\n",
       "<g id=\"edge5\" class=\"edge\"><title>max_pooling2d_2&#45;&gt;dense_1</title>\r\n",
       "<path fill=\"none\" stroke=\"black\" d=\"M146,-212.108C146,-204.183 146,-194.971 146,-185.882\"/>\r\n",
       "<polygon fill=\"black\" stroke=\"black\" points=\"149.5,-185.746 146,-175.746 142.5,-185.746 149.5,-185.746\"/>\r\n",
       "</g>\r\n",
       "<!-- dense_2 -->\r\n",
       "<g id=\"node7\" class=\"node\"><title>dense_2</title>\r\n",
       "<path fill=\"#c8c8c8\" stroke=\"black\" d=\"M46.5,-0.5C46.5,-0.5 245.5,-0.5 245.5,-0.5 251.5,-0.5 257.5,-6.5 257.5,-12.5 257.5,-12.5 257.5,-57.5 257.5,-57.5 257.5,-63.5 251.5,-69.5 245.5,-69.5 245.5,-69.5 46.5,-69.5 46.5,-69.5 40.5,-69.5 34.5,-63.5 34.5,-57.5 34.5,-57.5 34.5,-12.5 34.5,-12.5 34.5,-6.5 40.5,-0.5 46.5,-0.5\"/>\r\n",
       "<text text-anchor=\"middle\" x=\"66\" y=\"-38.8\" font-family=\"Times New Roman,serif\" font-size=\"14.00\">dense_2</text>\r\n",
       "<text text-anchor=\"middle\" x=\"66\" y=\"-23.8\" font-family=\"Times New Roman,serif\" font-size=\"14.00\">(output)</text>\r\n",
       "<polyline fill=\"none\" stroke=\"black\" points=\"97.5,-0.5 97.5,-69.5 \"/>\r\n",
       "<text text-anchor=\"middle\" x=\"140.5\" y=\"-54.3\" font-family=\"Times New Roman,serif\" font-size=\"14.00\">Kernel Size:</text>\r\n",
       "<polyline fill=\"none\" stroke=\"black\" points=\"97.5,-46.5 183.5,-46.5 \"/>\r\n",
       "<text text-anchor=\"middle\" x=\"140.5\" y=\"-31.3\" font-family=\"Times New Roman,serif\" font-size=\"14.00\">Activation:</text>\r\n",
       "<polyline fill=\"none\" stroke=\"black\" points=\"97.5,-23.5 183.5,-23.5 \"/>\r\n",
       "<text text-anchor=\"middle\" x=\"140.5\" y=\"-8.3\" font-family=\"Times New Roman,serif\" font-size=\"14.00\">Output Size:</text>\r\n",
       "<polyline fill=\"none\" stroke=\"black\" points=\"183.5,-0.5 183.5,-69.5 \"/>\r\n",
       "<text text-anchor=\"middle\" x=\"220.5\" y=\"-54.3\" font-family=\"Times New Roman,serif\" font-size=\"14.00\">(1000, 10)</text>\r\n",
       "<polyline fill=\"none\" stroke=\"black\" points=\"183.5,-46.5 257.5,-46.5 \"/>\r\n",
       "<text text-anchor=\"middle\" x=\"220.5\" y=\"-31.3\" font-family=\"Times New Roman,serif\" font-size=\"14.00\">Softmax</text>\r\n",
       "<polyline fill=\"none\" stroke=\"black\" points=\"183.5,-23.5 257.5,-23.5 \"/>\r\n",
       "<text text-anchor=\"middle\" x=\"220.5\" y=\"-8.3\" font-family=\"Times New Roman,serif\" font-size=\"14.00\">10</text>\r\n",
       "</g>\r\n",
       "<!-- dense_1&#45;&gt;dense_2 -->\r\n",
       "<g id=\"edge6\" class=\"edge\"><title>dense_1&#45;&gt;dense_2</title>\r\n",
       "<path fill=\"none\" stroke=\"black\" d=\"M146,-106.234C146,-97.7935 146,-88.6188 146,-79.7704\"/>\r\n",
       "<polygon fill=\"black\" stroke=\"black\" points=\"149.5,-79.5964 146,-69.5964 142.5,-79.5964 149.5,-79.5964\"/>\r\n",
       "</g>\r\n",
       "</g>\r\n",
       "</svg>\r\n"
      ],
      "text/plain": [
       "<graphviz.dot.Digraph at 0x26fddb64ef0>"
      ]
     },
     "execution_count": 10,
     "metadata": {},
     "output_type": "execute_result"
    }
   ],
   "source": [
    "# adding graphviz to system environment.\n",
    "import os\n",
    "os.environ['PATH'] += os.pathsep + 'C:/Program Files (x86)/Graphviz2.38/bin/'\n",
    "model1.plot_network()"
   ]
  },
  {
   "cell_type": "code",
   "execution_count": 11,
   "metadata": {
    "collapsed": false
   },
   "outputs": [
    {
     "data": {
      "text/html": [
       "<div class=\"cas-output-area\"></div>\n",
       "<p class=\"cas-results-performance\"><small><span class=\"cas-elapsed\">elapsed 0.00769s</span> &#183; <span class=\"cas-user\">user 0.00407s</span> &#183; <span class=\"cas-sys\">sys 0.0114s</span> &#183; <span class=\"cas-memory\">mem 1.58MB</span></small></p>"
      ],
      "text/plain": [
       "+ Elapsed: 0.00769s, user: 0.00407s, sys: 0.0114s, mem: 1.58mb"
      ]
     },
     "execution_count": 11,
     "metadata": {},
     "output_type": "execute_result"
    }
   ],
   "source": [
    "sess.endsession()"
   ]
  },
  {
   "cell_type": "code",
   "execution_count": null,
   "metadata": {
    "collapsed": true
   },
   "outputs": [],
   "source": []
  }
 ],
 "metadata": {
  "anaconda-cloud": {},
  "kernelspec": {
   "display_name": "Python [default]",
   "language": "python",
   "name": "python3"
  }
 },
 "nbformat": 4,
 "nbformat_minor": 2
}
