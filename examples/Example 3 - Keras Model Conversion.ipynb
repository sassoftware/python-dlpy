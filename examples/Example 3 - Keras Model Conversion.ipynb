{
 "cells": [
  {
   "cell_type": "markdown",
   "metadata": {},
   "source": [
    "# Keras Model Conversion"
   ]
  },
  {
   "cell_type": "code",
   "execution_count": 1,
   "metadata": {
    "collapsed": true
   },
   "outputs": [],
   "source": [
    "%matplotlib inline"
   ]
  },
  {
   "cell_type": "code",
   "execution_count": 3,
   "metadata": {
    "collapsed": true,
    "scrolled": true
   },
   "outputs": [],
   "source": [
    "import swat\n",
    "\n",
    "sess = swat.CAS(cashost, casport)"
   ]
  },
  {
   "cell_type": "markdown",
   "metadata": {},
   "source": [
    "### Define a MNIST classification model in Keras"
   ]
  },
  {
   "cell_type": "code",
   "execution_count": 4,
   "metadata": {},
   "outputs": [
    {
     "name": "stderr",
     "output_type": "stream",
     "text": [
      "Using TensorFlow backend.\n"
     ]
    }
   ],
   "source": [
    "from keras import Sequential\n",
    "from keras.layers import *"
   ]
  },
  {
   "cell_type": "code",
   "execution_count": 5,
   "metadata": {
    "collapsed": true
   },
   "outputs": [],
   "source": [
    "model = Sequential()\n",
    "model.add(Conv2D(32, kernel_size=(5, 5), strides=(1, 1),\n",
    "                 activation='relu',padding='same',\n",
    "                 input_shape=(28,28,1)))\n",
    "model.add(MaxPooling2D(pool_size=(2, 2), padding='same', strides=(2, 2)))\n",
    "model.add(Conv2D(64, (5, 5), padding='same', activation='relu'))\n",
    "model.add(MaxPooling2D(pool_size=(2, 2), padding='same'))\n",
    "model.add(Flatten())\n",
    "model.add(Dense(1000, activation='relu'))\n",
    "model.add(Dense(10, activation='softmax'))"
   ]
  },
  {
   "cell_type": "markdown",
   "metadata": {},
   "source": [
    "**Note:** DLPy now only support for padding='same'."
   ]
  },
  {
   "cell_type": "code",
   "execution_count": 6,
   "metadata": {},
   "outputs": [
    {
     "name": "stdout",
     "output_type": "stream",
     "text": [
      "_________________________________________________________________\n",
      "Layer (type)                 Output Shape              Param #   \n",
      "=================================================================\n",
      "conv2d_1 (Conv2D)            (None, 28, 28, 32)        832       \n",
      "_________________________________________________________________\n",
      "max_pooling2d_1 (MaxPooling2 (None, 14, 14, 32)        0         \n",
      "_________________________________________________________________\n",
      "conv2d_2 (Conv2D)            (None, 14, 14, 64)        51264     \n",
      "_________________________________________________________________\n",
      "max_pooling2d_2 (MaxPooling2 (None, 7, 7, 64)          0         \n",
      "_________________________________________________________________\n",
      "flatten_1 (Flatten)          (None, 3136)              0         \n",
      "_________________________________________________________________\n",
      "dense_1 (Dense)              (None, 1000)              3137000   \n",
      "_________________________________________________________________\n",
      "dense_2 (Dense)              (None, 10)                10010     \n",
      "=================================================================\n",
      "Total params: 3,199,106\n",
      "Trainable params: 3,199,106\n",
      "Non-trainable params: 0\n",
      "_________________________________________________________________\n"
     ]
    }
   ],
   "source": [
    "model.summary()"
   ]
  },
  {
   "cell_type": "markdown",
   "metadata": {},
   "source": [
    "### Convert Keras model to DLPy model"
   ]
  },
  {
   "cell_type": "code",
   "execution_count": 7,
   "metadata": {
    "collapsed": true
   },
   "outputs": [],
   "source": [
    "from dlpy import Model"
   ]
  },
  {
   "cell_type": "code",
   "execution_count": 8,
   "metadata": {
    "scrolled": true
   },
   "outputs": [
    {
     "name": "stdout",
     "output_type": "stream",
     "text": [
      "NOTE: Added action set 'deeplearn'.\n",
      "NOTE: Model table is attached successfully!\n",
      "NOTE: Model is named to \"converted_keras_model\" according to the model name in the table.\n"
     ]
    }
   ],
   "source": [
    "model1 = Model.from_keras_model(conn=sess, keras_model=model, output_model_table='converted_keras_model')"
   ]
  },
  {
   "cell_type": "markdown",
   "metadata": {},
   "source": [
    "### Now model1 is a DLPy model, fully supporting all the function in DLPy."
   ]
  },
  {
   "cell_type": "code",
   "execution_count": 9,
   "metadata": {},
   "outputs": [
    {
     "name": "stdout",
     "output_type": "stream",
     "text": [
      "*==================*===============*========*============*=================*======================*\n",
      "|   Layer (Type)   |  Kernel Size  | Stride | Activation |   Output Size   | Number of Parameters |\n",
      "*------------------*---------------*--------*------------*-----------------*----------------------*\n",
      "| conv2d_1_input...|     None      |  None  |    None    |   (28, 28, 1)   |        0 / 0         |\n",
      "| conv2d_1(Convo.) |    (5, 5)     |   1    | Rectifier  |  (28, 28, 32)   |       800 / 32       |\n",
      "| max_pooling2d_...|    (2, 2)     |   2    |    Max     |  (14, 14, 32)   |        0 / 0         |\n",
      "| conv2d_2(Convo.) |    (5, 5)     |   1    | Rectifier  |  (14, 14, 64)   |      51200 / 64      |\n",
      "| max_pooling2d_...|    (2, 2)     |   2    |    Max     |   (7, 7, 64)    |        0 / 0         |\n",
      "| dense_1(F.C.)    | (3136, 1000)  |  None  | Rectifier  |      1000       |    3136000 / 1000    |\n",
      "| dense_2(Output)  |  (1000, 10)   |  None  |  Softmax   |       10        |      10000 / 10      |\n",
      "*==================*===============*========*============*=================*======================*\n",
      "|Total Number of Parameters: 3,199,106                                                            |\n",
      "*=================================================================================================*\n"
     ]
    }
   ],
   "source": [
    "model1.print_summary()"
   ]
  },
  {
   "cell_type": "code",
   "execution_count": 10,
   "metadata": {},
   "outputs": [
    {
     "data": {
      "image/svg+xml": [
       "<?xml version=\"1.0\" encoding=\"UTF-8\" standalone=\"no\"?>\n",
       "<!DOCTYPE svg PUBLIC \"-//W3C//DTD SVG 1.1//EN\"\n",
       " \"http://www.w3.org/Graphics/SVG/1.1/DTD/svg11.dtd\">\n",
       "<!-- Generated by graphviz version 2.30.1 (20150306.0020)\n",
       " -->\n",
       "<!-- Title: converted_keras_model Pages: 1 -->\n",
       "<svg width=\"295pt\" height=\"670pt\"\n",
       " viewBox=\"0.00 0.00 295.00 670.00\" xmlns=\"http://www.w3.org/2000/svg\" xmlns:xlink=\"http://www.w3.org/1999/xlink\">\n",
       "<g id=\"graph0\" class=\"graph\" transform=\"scale(1 1) rotate(0) translate(4 666)\">\n",
       "<title>converted_keras_model</title>\n",
       "<polygon fill=\"white\" stroke=\"white\" points=\"-4,5 -4,-666 292,-666 292,5 -4,5\"/>\n",
       "<text text-anchor=\"middle\" x=\"143.5\" y=\"-642\" font-family=\"Times,serif\" font-size=\"20.00\">DAG for converted_keras_model:</text>\n",
       "<!-- conv2d_1_input -->\n",
       "<g id=\"node1\" class=\"node\"><title>conv2d_1_input</title>\n",
       "<path fill=\"#f0ff00\" stroke=\"black\" d=\"M28.5,-593C28.5,-593 258.5,-593 258.5,-593 264.5,-593 270.5,-599 270.5,-605 270.5,-605 270.5,-619 270.5,-619 270.5,-625 264.5,-631 258.5,-631 258.5,-631 28.5,-631 28.5,-631 22.5,-631 16.5,-625 16.5,-619 16.5,-619 16.5,-605 16.5,-605 16.5,-599 22.5,-593 28.5,-593\"/>\n",
       "<text text-anchor=\"middle\" x=\"68.5\" y=\"-615.8\" font-family=\"Times,serif\" font-size=\"14.00\">conv2d_1_input</text>\n",
       "<text text-anchor=\"middle\" x=\"68.5\" y=\"-600.8\" font-family=\"Times,serif\" font-size=\"14.00\">(input)</text>\n",
       "<polyline fill=\"none\" stroke=\"black\" points=\"120.5,-593 120.5,-631 \"/>\n",
       "<text text-anchor=\"middle\" x=\"158.5\" y=\"-608.3\" font-family=\"Times,serif\" font-size=\"14.00\">Input Size:</text>\n",
       "<polyline fill=\"none\" stroke=\"black\" points=\"196.5,-593 196.5,-631 \"/>\n",
       "<text text-anchor=\"middle\" x=\"233.5\" y=\"-608.3\" font-family=\"Times,serif\" font-size=\"14.00\">(28, 28, 1)</text>\n",
       "</g>\n",
       "<!-- conv2d_1 -->\n",
       "<g id=\"node2\" class=\"node\"><title>conv2d_1</title>\n",
       "<path fill=\"#6cff00\" stroke=\"black\" d=\"M37.5,-486.5C37.5,-486.5 249.5,-486.5 249.5,-486.5 255.5,-486.5 261.5,-492.5 261.5,-498.5 261.5,-498.5 261.5,-543.5 261.5,-543.5 261.5,-549.5 255.5,-555.5 249.5,-555.5 249.5,-555.5 37.5,-555.5 37.5,-555.5 31.5,-555.5 25.5,-549.5 25.5,-543.5 25.5,-543.5 25.5,-498.5 25.5,-498.5 25.5,-492.5 31.5,-486.5 37.5,-486.5\"/>\n",
       "<text text-anchor=\"middle\" x=\"60.5\" y=\"-524.8\" font-family=\"Times,serif\" font-size=\"14.00\">conv2d_1</text>\n",
       "<text text-anchor=\"middle\" x=\"60.5\" y=\"-509.8\" font-family=\"Times,serif\" font-size=\"14.00\">(convo)</text>\n",
       "<polyline fill=\"none\" stroke=\"black\" points=\"95.5,-486.5 95.5,-555.5 \"/>\n",
       "<text text-anchor=\"middle\" x=\"138\" y=\"-540.3\" font-family=\"Times,serif\" font-size=\"14.00\">Kernel Size:</text>\n",
       "<polyline fill=\"none\" stroke=\"black\" points=\"95.5,-532.5 180.5,-532.5 \"/>\n",
       "<text text-anchor=\"middle\" x=\"138\" y=\"-517.3\" font-family=\"Times,serif\" font-size=\"14.00\">Activation:</text>\n",
       "<polyline fill=\"none\" stroke=\"black\" points=\"95.5,-509.5 180.5,-509.5 \"/>\n",
       "<text text-anchor=\"middle\" x=\"138\" y=\"-494.3\" font-family=\"Times,serif\" font-size=\"14.00\">Output Size:</text>\n",
       "<polyline fill=\"none\" stroke=\"black\" points=\"180.5,-486.5 180.5,-555.5 \"/>\n",
       "<text text-anchor=\"middle\" x=\"221\" y=\"-540.3\" font-family=\"Times,serif\" font-size=\"14.00\">(5, 5)</text>\n",
       "<polyline fill=\"none\" stroke=\"black\" points=\"180.5,-532.5 261.5,-532.5 \"/>\n",
       "<text text-anchor=\"middle\" x=\"221\" y=\"-517.3\" font-family=\"Times,serif\" font-size=\"14.00\">Rectifier</text>\n",
       "<polyline fill=\"none\" stroke=\"black\" points=\"180.5,-509.5 261.5,-509.5 \"/>\n",
       "<text text-anchor=\"middle\" x=\"221\" y=\"-494.3\" font-family=\"Times,serif\" font-size=\"14.00\">(28, 28, 32)</text>\n",
       "</g>\n",
       "<!-- conv2d_1_input&#45;&gt;conv2d_1 -->\n",
       "<g id=\"edge1\" class=\"edge\"><title>conv2d_1_input&#45;&gt;conv2d_1</title>\n",
       "<path fill=\"none\" stroke=\"black\" d=\"M143.5,-592.99C143.5,-585.156 143.5,-575.601 143.5,-566.072\"/>\n",
       "<polygon fill=\"black\" stroke=\"black\" points=\"147,-565.826 143.5,-555.826 140,-565.826 147,-565.826\"/>\n",
       "</g>\n",
       "<!-- max_pooling2d_1 -->\n",
       "<g id=\"node3\" class=\"node\"><title>max_pooling2d_1</title>\n",
       "<path fill=\"#ff9700\" stroke=\"black\" d=\"M14.5,-403C14.5,-403 272.5,-403 272.5,-403 278.5,-403 284.5,-409 284.5,-415 284.5,-415 284.5,-437 284.5,-437 284.5,-443 278.5,-449 272.5,-449 272.5,-449 14.5,-449 14.5,-449 8.5,-449 2.5,-443 2.5,-437 2.5,-437 2.5,-415 2.5,-415 2.5,-409 8.5,-403 14.5,-403\"/>\n",
       "<text text-anchor=\"middle\" x=\"60.5\" y=\"-429.8\" font-family=\"Times,serif\" font-size=\"14.00\">max_pooling2d_1</text>\n",
       "<text text-anchor=\"middle\" x=\"60.5\" y=\"-414.8\" font-family=\"Times,serif\" font-size=\"14.00\">(pool)</text>\n",
       "<polyline fill=\"none\" stroke=\"black\" points=\"118.5,-403 118.5,-449 \"/>\n",
       "<text text-anchor=\"middle\" x=\"161\" y=\"-433.8\" font-family=\"Times,serif\" font-size=\"14.00\">Kernel Size:</text>\n",
       "<polyline fill=\"none\" stroke=\"black\" points=\"118.5,-426 203.5,-426 \"/>\n",
       "<text text-anchor=\"middle\" x=\"161\" y=\"-410.8\" font-family=\"Times,serif\" font-size=\"14.00\">Output Size:</text>\n",
       "<polyline fill=\"none\" stroke=\"black\" points=\"203.5,-403 203.5,-449 \"/>\n",
       "<text text-anchor=\"middle\" x=\"244\" y=\"-433.8\" font-family=\"Times,serif\" font-size=\"14.00\">(2, 2)</text>\n",
       "<polyline fill=\"none\" stroke=\"black\" points=\"203.5,-426 284.5,-426 \"/>\n",
       "<text text-anchor=\"middle\" x=\"244\" y=\"-410.8\" font-family=\"Times,serif\" font-size=\"14.00\">(14, 14, 32)</text>\n",
       "</g>\n",
       "<!-- conv2d_1&#45;&gt;max_pooling2d_1 -->\n",
       "<g id=\"edge2\" class=\"edge\"><title>conv2d_1&#45;&gt;max_pooling2d_1</title>\n",
       "<path fill=\"none\" stroke=\"black\" d=\"M143.5,-486.425C143.5,-477.621 143.5,-468.147 143.5,-459.406\"/>\n",
       "<polygon fill=\"black\" stroke=\"black\" points=\"147,-459.202 143.5,-449.202 140,-459.202 147,-459.202\"/>\n",
       "</g>\n",
       "<!-- conv2d_2 -->\n",
       "<g id=\"node4\" class=\"node\"><title>conv2d_2</title>\n",
       "<path fill=\"#6cff00\" stroke=\"black\" d=\"M37.5,-296.5C37.5,-296.5 249.5,-296.5 249.5,-296.5 255.5,-296.5 261.5,-302.5 261.5,-308.5 261.5,-308.5 261.5,-353.5 261.5,-353.5 261.5,-359.5 255.5,-365.5 249.5,-365.5 249.5,-365.5 37.5,-365.5 37.5,-365.5 31.5,-365.5 25.5,-359.5 25.5,-353.5 25.5,-353.5 25.5,-308.5 25.5,-308.5 25.5,-302.5 31.5,-296.5 37.5,-296.5\"/>\n",
       "<text text-anchor=\"middle\" x=\"60.5\" y=\"-334.8\" font-family=\"Times,serif\" font-size=\"14.00\">conv2d_2</text>\n",
       "<text text-anchor=\"middle\" x=\"60.5\" y=\"-319.8\" font-family=\"Times,serif\" font-size=\"14.00\">(convo)</text>\n",
       "<polyline fill=\"none\" stroke=\"black\" points=\"95.5,-296.5 95.5,-365.5 \"/>\n",
       "<text text-anchor=\"middle\" x=\"138\" y=\"-350.3\" font-family=\"Times,serif\" font-size=\"14.00\">Kernel Size:</text>\n",
       "<polyline fill=\"none\" stroke=\"black\" points=\"95.5,-342.5 180.5,-342.5 \"/>\n",
       "<text text-anchor=\"middle\" x=\"138\" y=\"-327.3\" font-family=\"Times,serif\" font-size=\"14.00\">Activation:</text>\n",
       "<polyline fill=\"none\" stroke=\"black\" points=\"95.5,-319.5 180.5,-319.5 \"/>\n",
       "<text text-anchor=\"middle\" x=\"138\" y=\"-304.3\" font-family=\"Times,serif\" font-size=\"14.00\">Output Size:</text>\n",
       "<polyline fill=\"none\" stroke=\"black\" points=\"180.5,-296.5 180.5,-365.5 \"/>\n",
       "<text text-anchor=\"middle\" x=\"221\" y=\"-350.3\" font-family=\"Times,serif\" font-size=\"14.00\">(5, 5)</text>\n",
       "<polyline fill=\"none\" stroke=\"black\" points=\"180.5,-342.5 261.5,-342.5 \"/>\n",
       "<text text-anchor=\"middle\" x=\"221\" y=\"-327.3\" font-family=\"Times,serif\" font-size=\"14.00\">Rectifier</text>\n",
       "<polyline fill=\"none\" stroke=\"black\" points=\"180.5,-319.5 261.5,-319.5 \"/>\n",
       "<text text-anchor=\"middle\" x=\"221\" y=\"-304.3\" font-family=\"Times,serif\" font-size=\"14.00\">(14, 14, 64)</text>\n",
       "</g>\n",
       "<!-- max_pooling2d_1&#45;&gt;conv2d_2 -->\n",
       "<g id=\"edge3\" class=\"edge\"><title>max_pooling2d_1&#45;&gt;conv2d_2</title>\n",
       "<path fill=\"none\" stroke=\"black\" d=\"M143.5,-402.96C143.5,-394.756 143.5,-385.13 143.5,-375.663\"/>\n",
       "<polygon fill=\"black\" stroke=\"black\" points=\"147,-375.526 143.5,-365.526 140,-375.526 147,-375.526\"/>\n",
       "</g>\n",
       "<!-- max_pooling2d_2 -->\n",
       "<g id=\"node5\" class=\"node\"><title>max_pooling2d_2</title>\n",
       "<path fill=\"#ff9700\" stroke=\"black\" d=\"M21,-213C21,-213 266,-213 266,-213 272,-213 278,-219 278,-225 278,-225 278,-247 278,-247 278,-253 272,-259 266,-259 266,-259 21,-259 21,-259 15,-259 9,-253 9,-247 9,-247 9,-225 9,-225 9,-219 15,-213 21,-213\"/>\n",
       "<text text-anchor=\"middle\" x=\"67\" y=\"-239.8\" font-family=\"Times,serif\" font-size=\"14.00\">max_pooling2d_2</text>\n",
       "<text text-anchor=\"middle\" x=\"67\" y=\"-224.8\" font-family=\"Times,serif\" font-size=\"14.00\">(pool)</text>\n",
       "<polyline fill=\"none\" stroke=\"black\" points=\"125,-213 125,-259 \"/>\n",
       "<text text-anchor=\"middle\" x=\"167.5\" y=\"-243.8\" font-family=\"Times,serif\" font-size=\"14.00\">Kernel Size:</text>\n",
       "<polyline fill=\"none\" stroke=\"black\" points=\"125,-236 210,-236 \"/>\n",
       "<text text-anchor=\"middle\" x=\"167.5\" y=\"-220.8\" font-family=\"Times,serif\" font-size=\"14.00\">Output Size:</text>\n",
       "<polyline fill=\"none\" stroke=\"black\" points=\"210,-213 210,-259 \"/>\n",
       "<text text-anchor=\"middle\" x=\"244\" y=\"-243.8\" font-family=\"Times,serif\" font-size=\"14.00\">(2, 2)</text>\n",
       "<polyline fill=\"none\" stroke=\"black\" points=\"210,-236 278,-236 \"/>\n",
       "<text text-anchor=\"middle\" x=\"244\" y=\"-220.8\" font-family=\"Times,serif\" font-size=\"14.00\">(7, 7, 64)</text>\n",
       "</g>\n",
       "<!-- conv2d_2&#45;&gt;max_pooling2d_2 -->\n",
       "<g id=\"edge4\" class=\"edge\"><title>conv2d_2&#45;&gt;max_pooling2d_2</title>\n",
       "<path fill=\"none\" stroke=\"black\" d=\"M143.5,-296.425C143.5,-287.621 143.5,-278.147 143.5,-269.406\"/>\n",
       "<polygon fill=\"black\" stroke=\"black\" points=\"147,-269.202 143.5,-259.202 140,-269.202 147,-269.202\"/>\n",
       "</g>\n",
       "<!-- dense_1 -->\n",
       "<g id=\"node6\" class=\"node\"><title>dense_1</title>\n",
       "<path fill=\"#00ecff\" stroke=\"black\" d=\"M39,-106.5C39,-106.5 248,-106.5 248,-106.5 254,-106.5 260,-112.5 260,-118.5 260,-118.5 260,-163.5 260,-163.5 260,-169.5 254,-175.5 248,-175.5 248,-175.5 39,-175.5 39,-175.5 33,-175.5 27,-169.5 27,-163.5 27,-163.5 27,-118.5 27,-118.5 27,-112.5 33,-106.5 39,-106.5\"/>\n",
       "<text text-anchor=\"middle\" x=\"57.5\" y=\"-144.8\" font-family=\"Times,serif\" font-size=\"14.00\">dense_1</text>\n",
       "<text text-anchor=\"middle\" x=\"57.5\" y=\"-129.8\" font-family=\"Times,serif\" font-size=\"14.00\">(fc)</text>\n",
       "<polyline fill=\"none\" stroke=\"black\" points=\"88,-106.5 88,-175.5 \"/>\n",
       "<text text-anchor=\"middle\" x=\"130.5\" y=\"-160.3\" font-family=\"Times,serif\" font-size=\"14.00\">Kernel Size:</text>\n",
       "<polyline fill=\"none\" stroke=\"black\" points=\"88,-152.5 173,-152.5 \"/>\n",
       "<text text-anchor=\"middle\" x=\"130.5\" y=\"-137.3\" font-family=\"Times,serif\" font-size=\"14.00\">Activation:</text>\n",
       "<polyline fill=\"none\" stroke=\"black\" points=\"88,-129.5 173,-129.5 \"/>\n",
       "<text text-anchor=\"middle\" x=\"130.5\" y=\"-114.3\" font-family=\"Times,serif\" font-size=\"14.00\">Output Size:</text>\n",
       "<polyline fill=\"none\" stroke=\"black\" points=\"173,-106.5 173,-175.5 \"/>\n",
       "<text text-anchor=\"middle\" x=\"216.5\" y=\"-160.3\" font-family=\"Times,serif\" font-size=\"14.00\">(3136, 1000)</text>\n",
       "<polyline fill=\"none\" stroke=\"black\" points=\"173,-152.5 260,-152.5 \"/>\n",
       "<text text-anchor=\"middle\" x=\"216.5\" y=\"-137.3\" font-family=\"Times,serif\" font-size=\"14.00\">Rectifier</text>\n",
       "<polyline fill=\"none\" stroke=\"black\" points=\"173,-129.5 260,-129.5 \"/>\n",
       "<text text-anchor=\"middle\" x=\"216.5\" y=\"-114.3\" font-family=\"Times,serif\" font-size=\"14.00\">1000</text>\n",
       "</g>\n",
       "<!-- max_pooling2d_2&#45;&gt;dense_1 -->\n",
       "<g id=\"edge5\" class=\"edge\"><title>max_pooling2d_2&#45;&gt;dense_1</title>\n",
       "<path fill=\"none\" stroke=\"black\" d=\"M143.5,-212.96C143.5,-204.756 143.5,-195.13 143.5,-185.663\"/>\n",
       "<polygon fill=\"black\" stroke=\"black\" points=\"147,-185.526 143.5,-175.526 140,-185.526 147,-185.526\"/>\n",
       "</g>\n",
       "<!-- dense_2 -->\n",
       "<g id=\"node7\" class=\"node\"><title>dense_2</title>\n",
       "<path fill=\"#c8c8c8\" stroke=\"black\" d=\"M45.5,-0.5C45.5,-0.5 241.5,-0.5 241.5,-0.5 247.5,-0.5 253.5,-6.5 253.5,-12.5 253.5,-12.5 253.5,-57.5 253.5,-57.5 253.5,-63.5 247.5,-69.5 241.5,-69.5 241.5,-69.5 45.5,-69.5 45.5,-69.5 39.5,-69.5 33.5,-63.5 33.5,-57.5 33.5,-57.5 33.5,-12.5 33.5,-12.5 33.5,-6.5 39.5,-0.5 45.5,-0.5\"/>\n",
       "<text text-anchor=\"middle\" x=\"64\" y=\"-38.8\" font-family=\"Times,serif\" font-size=\"14.00\">dense_2</text>\n",
       "<text text-anchor=\"middle\" x=\"64\" y=\"-23.8\" font-family=\"Times,serif\" font-size=\"14.00\">(output)</text>\n",
       "<polyline fill=\"none\" stroke=\"black\" points=\"94.5,-0.5 94.5,-69.5 \"/>\n",
       "<text text-anchor=\"middle\" x=\"137\" y=\"-54.3\" font-family=\"Times,serif\" font-size=\"14.00\">Kernel Size:</text>\n",
       "<polyline fill=\"none\" stroke=\"black\" points=\"94.5,-46.5 179.5,-46.5 \"/>\n",
       "<text text-anchor=\"middle\" x=\"137\" y=\"-31.3\" font-family=\"Times,serif\" font-size=\"14.00\">Activation:</text>\n",
       "<polyline fill=\"none\" stroke=\"black\" points=\"94.5,-23.5 179.5,-23.5 \"/>\n",
       "<text text-anchor=\"middle\" x=\"137\" y=\"-8.3\" font-family=\"Times,serif\" font-size=\"14.00\">Output Size:</text>\n",
       "<polyline fill=\"none\" stroke=\"black\" points=\"179.5,-0.5 179.5,-69.5 \"/>\n",
       "<text text-anchor=\"middle\" x=\"216.5\" y=\"-54.3\" font-family=\"Times,serif\" font-size=\"14.00\">(1000, 10)</text>\n",
       "<polyline fill=\"none\" stroke=\"black\" points=\"179.5,-46.5 253.5,-46.5 \"/>\n",
       "<text text-anchor=\"middle\" x=\"216.5\" y=\"-31.3\" font-family=\"Times,serif\" font-size=\"14.00\">Softmax</text>\n",
       "<polyline fill=\"none\" stroke=\"black\" points=\"179.5,-23.5 253.5,-23.5 \"/>\n",
       "<text text-anchor=\"middle\" x=\"216.5\" y=\"-8.3\" font-family=\"Times,serif\" font-size=\"14.00\">10</text>\n",
       "</g>\n",
       "<!-- dense_1&#45;&gt;dense_2 -->\n",
       "<g id=\"edge6\" class=\"edge\"><title>dense_1&#45;&gt;dense_2</title>\n",
       "<path fill=\"none\" stroke=\"black\" d=\"M143.5,-106.234C143.5,-97.7935 143.5,-88.6188 143.5,-79.7704\"/>\n",
       "<polygon fill=\"black\" stroke=\"black\" points=\"147,-79.5964 143.5,-69.5964 140,-79.5964 147,-79.5964\"/>\n",
       "</g>\n",
       "</g>\n",
       "</svg>\n"
      ],
      "text/plain": [
       "<graphviz.dot.Digraph at 0x7fe02c62c940>"
      ]
     },
     "execution_count": 10,
     "metadata": {},
     "output_type": "execute_result"
    }
   ],
   "source": [
    "model1.plot_network()"
   ]
  },
  {
   "cell_type": "code",
   "execution_count": 11,
   "metadata": {
    "collapsed": true
   },
   "outputs": [],
   "source": [
    "sess.terminate()"
   ]
  },
  {
   "cell_type": "code",
   "execution_count": null,
   "metadata": {
    "collapsed": true
   },
   "outputs": [],
   "source": []
  }
 ],
 "metadata": {
  "anaconda-cloud": {},
  "kernelspec": {
   "display_name": "Python 3",
   "language": "python",
   "name": "python3"
  },
  "language_info": {
   "codemirror_mode": {
    "name": "ipython",
    "version": 3
   },
   "file_extension": ".py",
   "mimetype": "text/x-python",
   "name": "python",
   "nbconvert_exporter": "python",
   "pygments_lexer": "ipython3",
   "version": "3.6.2"
  }
 },
 "nbformat": 4,
 "nbformat_minor": 2
}
