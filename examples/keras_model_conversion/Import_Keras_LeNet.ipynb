{
 "cells": [
  {
   "cell_type": "markdown",
   "metadata": {},
   "source": [
    "# Build and Train Keras LeNet Model, Convert to SAS Deep Learning LeNet Model with DLPy\n",
    "\n",
    "This example trains a LeNet model in Keras, and then imports the resulting trained model into a SAS Deep Learning model using SAS DLPy.  The test image data is scored by both Keras and DLPy models, and the model results are compared. The results show that the imported and converted SAS Deep Learning model duplicates the results that were produced by the original Keras model. This demonstrates the consistency between the open-source Keras model and the imported and converted SAS Deep Learning model.  \n",
    "\n",
    "For best success before attempting this example in your own environment, consider reading Adrian Rosebrook's tutorial blog post on LeNet CNN models: https://www.pyimagesearch.com/2016/08/01/lenet-convolutional-neural-network-in-python. The blog provides a nice summary of LeNet, and this example follows the blog's LeNet model definition."
   ]
  },
  {
   "cell_type": "markdown",
   "metadata": {},
   "source": [
    "## Important Note: Client and Server Definitions\n",
    "\n",
    "SAS Viya and Deep Learning literature and technical documentation often refers to client and server entities.  In this scenario, the client is the computer that runs the Jupyter notebook with the example code.  The server is the computer that is running the SAS Viya server.  These two computers might (or might not) use the same operating system, and might (or might not) have access to a common file system.  \n",
    "\n",
    "This example assumes that the client and server do not use the same operating system, but that they do have access to a common file system.  If the client and server in your environment do not have access to a common file system, you will need to copy or transfer files between client and server twice during this example.  The example in this notebook uses comments in cells to indicate when a given file should be moved from the client to the server."
   ]
  },
  {
   "cell_type": "code",
   "execution_count": 1,
   "metadata": {},
   "outputs": [],
   "source": [
    "# define variables to contain path specifications to  \n",
    "# the client and server machine image root directories\n",
    "\n",
    "client_image_root = \"/client/path-to/image-root/directory\" # this is the CLIENT_IMAGE_ROOT directory\n",
    "\n",
    "server_image_root = \"/server/path-to/image-root/directory\" # this is the SERVER_IMAGE_ROOT directory"
   ]
  },
  {
   "cell_type": "markdown",
   "metadata": {},
   "source": [
    "## Import Python Function Packages\n"
   ]
  },
  {
   "cell_type": "markdown",
   "metadata": {},
   "source": [
    "Here we import and intitialize Python function packages that will be used during the example. The Keras function packages are used to build the LeNet model in Keras before the trained model is imported as a SAS Viya Deep Learning model using SAS DLPy. "
   ]
  },
  {
   "cell_type": "code",
   "execution_count": 2,
   "metadata": {},
   "outputs": [
    {
     "name": "stderr",
     "output_type": "stream",
     "text": [
      "Using TensorFlow backend.\n"
     ]
    }
   ],
   "source": [
    "from __future__ import print_function\n",
    "\n",
    "import sys\n",
    "import warnings\n",
    "\n",
    "if not sys.warnoptions:\n",
    "    warnings.simplefilter(\"ignore\")\n",
    "\n",
    "import keras\n",
    "from keras.datasets import mnist\n",
    "from keras.models import Sequential\n",
    "from keras.layers import Dense, Dropout, Conv2D, MaxPooling2D, Flatten\n",
    "from keras.optimizers import RMSprop\n",
    "import os\n",
    "from PIL import Image\n",
    "import numpy as np"
   ]
  },
  {
   "cell_type": "markdown",
   "metadata": {},
   "source": [
    "## Extract the Keras MNIST Image Classification Data\n",
    "\n",
    "This step of the example extracts the MNIST data using Keras utilities. For more information on the MNIST data, see https://keras.io/datasets/#mnist-database-of-handwritten-digits. Convenience functions provided by Keras load the data and assign labels to the training and test data.  There should be 60000 training images and 10000 test images.  Each image should be 28 pixels by 28 pixels."
   ]
  },
  {
   "cell_type": "code",
   "execution_count": 3,
   "metadata": {},
   "outputs": [
    {
     "name": "stdout",
     "output_type": "stream",
     "text": [
      "Number of training images = 60000\n",
      "Number of test images = 10000\n",
      "Image size = 28 x 28\n"
     ]
    }
   ],
   "source": [
    "num_classes = 10\n",
    "\n",
    "# the data, shuffled and split between train and test sets\n",
    "(x_train, y_train), (x_test, y_test) = mnist.load_data()\n",
    "\n",
    "# convert class vectors to binary class matrices - this effectively gives a classification\n",
    "# label for each image\n",
    "y_train = keras.utils.to_categorical(y_train, num_classes)\n",
    "y_test = keras.utils.to_categorical(y_test, num_classes)\n",
    "\n",
    "print(\"Number of training images = \" + str(x_train.shape[0]))\n",
    "print(\"Number of test images = \" + str(x_test.shape[0]))\n",
    "print(\"Image size = \" + str(x_train.shape[1]) + \" x \" + str(x_train.shape[2]))"
   ]
  },
  {
   "cell_type": "markdown",
   "metadata": {},
   "source": [
    "## Prepare Test Images Before Loading into SAS CAS \n",
    "\n",
    "\n",
    "The test images for the example are stored in Python numpy arrays. There is not a direct way to convert a numpy array to a SAS CAS table, so the example first stores the test images in an intermediate PNG format. Afterwards, the example performs image processing actions and then loads the stored PNG images into a SAS CAS table.  Note that the action that loads images expects the following directory structure:\n",
    "\n",
    "<br>\n",
    "CLIENT_IMAGE_ROOT/label1\n",
    "<br>\n",
    "CLIENT_IMAGE_ROOT/label2\n",
    "<br>\n",
    "...\n",
    "<br>\n",
    "CLIENT_IMAGE_ROOT/labelN\n",
    "<br>\n",
    "\n",
    "In this instance, CLIENT_IMAGE_ROOT specifies the name of the root image directory on the client, and \"label1\", \"label2\", ..., \"labelN\" \n",
    "represents the N image classes.  All the images that belong to image class \"label1\" should reside in the CLIENT_IMAGE_ROOT/label1 directory, all the images that belong to image class \"label2\" should reside in the CLIENT_IMAGE_ROOT/label2 directory, and so on.\n",
    "\n",
    "The MNIST image data contains 10 object classes. Each class is assigned a label \"0\", \"1\", ..., \"9\".  The example code assigns the test images to 10 separate directories as follows:\n",
    "\n",
    "<br>\n",
    "CLIENT_IMAGE_ROOT/0\n",
    "<br>\n",
    "CLIENT_IMAGE_ROOT/1\n",
    "<br>\n",
    "...\n",
    "<br>\n",
    "CLIENT_IMAGE_ROOT/9\n",
    "<br>\n",
    "\n",
    "Note: This example assumes that if the CLIENT_IMAGE_ROOT directory already exists, then all image files have been previously unpacked and are ready for processing."
   ]
  },
  {
   "cell_type": "code",
   "execution_count": 4,
   "metadata": {},
   "outputs": [
    {
     "name": "stdout",
     "output_type": "stream",
     "text": [
      "Image directory exists, assuming image files prepared for loading into CAS table\n"
     ]
    }
   ],
   "source": [
    "# check if working directory exists\n",
    "if os.path.isdir(client_image_root):\n",
    "    print(\"Image directory exists, assuming image files are prepared for loading into CAS table.\")\n",
    "else:\n",
    "    os.mkdir(client_image_root)\n",
    "    \n",
    "    # create subdirectories for each image class\n",
    "    for ii in range(10):\n",
    "        new_path = os.path.join(client_image_root,str(ii))\n",
    "        if not os.path.isdir(new_path):\n",
    "            os.mkdir(new_path)\n",
    "\n",
    "    # distribute images to proper directories\n",
    "    im_index = [0, 0, 0, 0, 0, 0, 0, 0, 0, 0]\n",
    "    for ii in range(x_test.shape[0]):\n",
    "        im = Image.fromarray(x_test[ii,])\n",
    "        idx = np.where(y_test[ii])[0][0]\n",
    "        file_name = 'im'+str(idx)+'_file'+str(im_index[idx])+'.png'\n",
    "        new_path = os.path.join(client_image_root,str(idx))\n",
    "        im.save(os.path.join(new_path,file_name))\n",
    "        im_index[idx] = im_index[idx] + 1"
   ]
  },
  {
   "cell_type": "code",
   "execution_count": 5,
   "metadata": {},
   "outputs": [],
   "source": [
    "# If your client/server do not share a common file system, please copy the image files and subdirectories from CLIENT_IMAGE_ROOT to \n",
    "# SERVER_IMAGE_ROOT."
   ]
  },
  {
   "cell_type": "markdown",
   "metadata": {},
   "source": [
    "## Data Pre-processing\n",
    "\n",
    "The following code converts the image data to floating point and scales it such that all pixel values fall within the range 0.0 to 1.0.\n"
   ]
  },
  {
   "cell_type": "code",
   "execution_count": 6,
   "metadata": {},
   "outputs": [],
   "source": [
    "# Scale the 60,000 train images and the 10,000 test images.\n",
    "x_train = x_train.reshape(60000, 28, 28, 1)\n",
    "x_test = x_test.reshape(10000, 28, 28, 1)\n",
    "x_train = x_train.astype('float32')\n",
    "x_test = x_test.astype('float32')\n",
    "x_train /= 255\n",
    "x_test /= 255"
   ]
  },
  {
   "cell_type": "markdown",
   "metadata": {},
   "source": [
    "## Define the Keras LeNet Model Architecture"
   ]
  },
  {
   "cell_type": "code",
   "execution_count": 7,
   "metadata": {},
   "outputs": [
    {
     "name": "stdout",
     "output_type": "stream",
     "text": [
      "Model: \"sequential_1\"\n",
      "_________________________________________________________________\n",
      "Layer (type)                 Output Shape              Param #   \n",
      "=================================================================\n",
      "conv2d_1 (Conv2D)            (None, 28, 28, 20)        520       \n",
      "_________________________________________________________________\n",
      "max_pooling2d_1 (MaxPooling2 (None, 14, 14, 20)        0         \n",
      "_________________________________________________________________\n",
      "conv2d_2 (Conv2D)            (None, 14, 14, 50)        25050     \n",
      "_________________________________________________________________\n",
      "max_pooling2d_2 (MaxPooling2 (None, 7, 7, 50)          0         \n",
      "_________________________________________________________________\n",
      "flatten_1 (Flatten)          (None, 2450)              0         \n",
      "_________________________________________________________________\n",
      "dense_1 (Dense)              (None, 500)               1225500   \n",
      "_________________________________________________________________\n",
      "dense_2 (Dense)              (None, 10)                5010      \n",
      "=================================================================\n",
      "Total params: 1,256,080\n",
      "Trainable params: 1,256,080\n",
      "Non-trainable params: 0\n",
      "_________________________________________________________________\n"
     ]
    }
   ],
   "source": [
    "# Define the Architecture for a Keras LeNet \n",
    "# Image Classification Model\n",
    "\n",
    "# training parameters\n",
    "batch_size = 128\n",
    "epochs = 1\n",
    "\n",
    "# model architecture and activation functions\n",
    "model = Sequential()\n",
    "model.add(Conv2D(20, kernel_size=(5, 5), strides=(1, 1), activation='relu', input_shape=(28,28,1), padding=\"same\"))\n",
    "model.add(MaxPooling2D(pool_size=(2, 2), strides=(2, 2), padding='same'))\n",
    "model.add(Conv2D(50, kernel_size=(5, 5), strides=(1, 1), activation='relu', padding='same'))\n",
    "model.add(MaxPooling2D(pool_size=(2, 2), strides=(2, 2), padding='same'))\n",
    "model.add(Flatten())\n",
    "model.add(Dense(500, activation='relu'))\n",
    "model.add(Dense(num_classes, activation='softmax'))\n",
    "\n",
    "# print a model summary\n",
    "model.summary()"
   ]
  },
  {
   "cell_type": "markdown",
   "metadata": {},
   "source": [
    "## Provide Trained LeNet Model Parameters\n",
    "\n",
    "After you define the Keras LeNet model architecture, you must either train the model from scratch, or use an exisiting trained model parameter file in HDF5 (.h5) format. You can make changes in the example code below according to your choice.\n",
    "\n",
    "If you have <b>not</b> run this example code before, you should use the code block that sets the `do_train` parameter to True. This setting trains the model from scratch, and then saves the weighted results in a generated .h5 file named `lenet.h5`. \n",
    "\n",
    "If you are running subsequent instances of this example (perhaps experimenting with parameter changes) it is not necessary to train the model from scratch each time. Instead, you can use the generated `lenet.h5` file that was created after training the model from scratch. To do this, you should comment out the `do_train = True` code block, and instead use the `do_train = False` code block below. The location of the trained `lenet.h5` parameter file should be specified in `CLIENT_IMAGE_ROOT/lenet.h5`. \n"
   ]
  },
  {
   "cell_type": "code",
   "execution_count": 8,
   "metadata": {},
   "outputs": [
    {
     "name": "stdout",
     "output_type": "stream",
     "text": [
      "Train on 60000 samples, validate on 10000 samples\n",
      "Epoch 1/1\n",
      "60000/60000 [==============================] - 35s 584us/step - loss: 0.1499 - accuracy: 0.9542 - val_loss: 0.0371 - val_accuracy: 0.9875\n",
      "Test loss: 0.037071275619626975\n",
      "Test accuracy: 0.987500011920929\n"
     ]
    }
   ],
   "source": [
    "# Compile the model using categorical cross entropy as the loss \n",
    "# function and RMS propagation as the iterative training optimizer.\n",
    "\n",
    "model.compile(loss='categorical_crossentropy',\n",
    "              optimizer=RMSprop(),\n",
    "              metrics=['accuracy']\n",
    "              )\n",
    "\n",
    "# If training for the first time, set the `do_train` parameter to True.\n",
    "# This will train the model from scratch, and save the pre-trained weighted \n",
    "# model parameters in a file named \"Lenet.h5\"\n",
    "\n",
    "# If you have already trained the model from scratch, you can use the \n",
    "# saved \"Lenet.h5\" file to load the model using pre-trained weights, \n",
    "# instead of spending processor time to train from scratch.\n",
    "\n",
    "# For first time training, use the following code:\n",
    "\n",
    "do_train = True\n",
    "if do_train:\n",
    "    history = model.fit(x_train, y_train,\n",
    "                        batch_size=batch_size,\n",
    "                        epochs=epochs,\n",
    "                        verbose=1,\n",
    "                        validation_data=(x_test, y_test)\n",
    "                       )\n",
    "    \n",
    "    model.save(os.path.join(client_image_root,\"lenet.h5\"))\n",
    "\n",
    "\n",
    "# If you have already trained the model from scratch, commment out the \n",
    "# previous code block, and un-comment the following code block. The    \n",
    "# following code sets the `do_train` parameter to False, and uses the  \n",
    "# generated model weights (Lenet.h5) file for the model:               \n",
    "\n",
    "\n",
    "# do_train = False\n",
    "# if do_train:\n",
    "#    history = model.fit(x_train, y_train,\n",
    "#    batch_size=batch_size,\n",
    "#    epochs=epochs,\n",
    "#    verbose=1,\n",
    "#    validation_data=(x_test, y_test))\n",
    "    \n",
    "#    model.save(os.path.join(client_image_root,\"lenet.h5\"))\n",
    "\n",
    "# else:\n",
    "\n",
    "# Load the previously trained parameter file \"lenet.h5\" instead\n",
    "# of training the LeNet model from scratch.\n",
    "\n",
    "#    model.load_weights(os.path.join(client_image_root,\"lenet.h5\"))\n",
    "\n",
    "# At this point you have a trained model network.\n",
    "# Now use the trained model (whether trained by scratch or using \n",
    "# the pre-trained model parameter file) to score the test Data.\n",
    "    \n",
    "score = model.evaluate(x_test, y_test, verbose=0)\n",
    "print('Test loss:', score[0])\n",
    "print('Test accuracy:', score[1])    "
   ]
  },
  {
   "cell_type": "markdown",
   "metadata": {},
   "source": [
    "## Connect to the SAS CAS Server"
   ]
  },
  {
   "cell_type": "code",
   "execution_count": 9,
   "metadata": {},
   "outputs": [
    {
     "name": "stdout",
     "output_type": "stream",
     "text": [
      "NOTE: Added action set 'deepLearn'.\n"
     ]
    },
    {
     "data": {
      "text/html": [
       "<div class=\"cas-results-key\"><b>&#167; actionset</b></div>\n",
       "<div class=\"cas-results-body\">\n",
       "<div>deepLearn</div>\n",
       "</div>\n",
       "<div class=\"cas-output-area\"></div>\n",
       "<p class=\"cas-results-performance\"><small><span class=\"cas-elapsed\">elapsed 0.00283s</span> &#183; <span class=\"cas-user\">user 0.00129s</span> &#183; <span class=\"cas-sys\">sys 0.00151s</span> &#183; <span class=\"cas-memory\">mem 0.205MB</span></small></p>"
      ],
      "text/plain": [
       "[actionset]\n",
       "\n",
       " 'deepLearn'\n",
       "\n",
       "+ Elapsed: 0.00283s, user: 0.00129s, sys: 0.00151s, mem: 0.205mb"
      ]
     },
     "execution_count": 9,
     "metadata": {},
     "output_type": "execute_result"
    }
   ],
   "source": [
    "# Configure matplotlib utility to display output in \n",
    "# Jupyter notebook cell\n",
    "%matplotlib inline\n",
    "\n",
    "# SAS Scripting Wrapper for Analytic Transfer (SWAT)\n",
    "# is a module needed to connect to a CAS server.\n",
    "import swat\n",
    "from swat import * \n",
    "\n",
    "host_name='your-qualified.server-name.com'\n",
    "\n",
    "\n",
    "# port_number='12345' # use a unique 5-digit port ID\n",
    "port_number=12345\n",
    "\n",
    "s = swat.CAS('your-qualified.server-name.com', 12345)\n",
    "\n"
   ]
  },
  {
   "cell_type": "markdown",
   "metadata": {
    "collapsed": true
   },
   "source": [
    "## Convert the Keras Model to a SAS Deep Learning Model\n",
    "\n",
    "Two operations take place when the SAS DLPy `from_keras_model()` function is called. The first operation automatically translates the Keras model into a SAS Deep Learning model.  You can perform this process manually, but it is not recommended because it is error-prone and time-consuming.  \n",
    "\n",
    "The second operation rearranges and reformats the HDF5 parameter file that was generated by Keras.  Rearranging and reformatting the parameter file enables the SAS Deep Learning action set to correctly parse and read the trained parameters. "
   ]
  },
  {
   "cell_type": "code",
   "execution_count": 10,
   "metadata": {},
   "outputs": [
    {
     "name": "stdout",
     "output_type": "stream",
     "text": [
      "WARNING: could not find layer conv2d_1_input, in model. Translated model may be inaccurate.\n",
      "NOTE: Model table is attached successfully!\n",
      "NOTE: Model is named to \"lenet\" according to the model name in the table.\n",
      "NOTE: the model weights has been stored in the following file:\n",
      "C:\\Users\\chrobi\\python-dlpy-1\\examples\\keras_model_conversion\\lenet_weights.kerasmodel.h5\n"
     ]
    }
   ],
   "source": [
    "from dlpy import Model\n",
    "# Convert the Keras model to a SAS Deep Learning model\n",
    "# Convert Keras model parameters to a format \n",
    "# that can be read by SAS DLPy and the SAS \n",
    "# Deep Learning tools.\n",
    "\n",
    "model_name = 'lenet'\n",
    "model1,use_gpu = Model.from_keras_model(conn=s, \n",
    "                                        keras_model=model, \n",
    "                                        output_model_table=model_name,\n",
    "                                        include_weights=True, \n",
    "                                        scale=1.0/255.0,\n",
    "                                        input_weights_file=os.path.join(client_image_root,\"lenet.h5\")\n",
    "                                       )"
   ]
  },
  {
   "cell_type": "markdown",
   "metadata": {},
   "source": [
    "NOTE: You should not be concerned about the warning in the example output. In this case, it is expected, because the Keras model input layer did not have a name. The warning simply informs users that a name has been created for the Viya model input layer."
   ]
  },
  {
   "cell_type": "markdown",
   "metadata": {},
   "source": [
    "## Copy the Reformatted HDF5 File\n",
    "\n",
    "This is for convenience, in the event that your client and server share a common file system.  If there is no common file system, then you must perform a copy operation to transfer the HDF5 file from one file system to another.  Remember that deep learning HDF5 files can be quite large, so the data transfer could take a significant amount of time."
   ]
  },
  {
   "cell_type": "code",
   "execution_count": 11,
   "metadata": {},
   "outputs": [
    {
     "data": {
      "text/plain": [
       "'\\\\\\\\sashq\\\\root\\\\u\\\\chrobi\\\\Keras_LeNet\\\\lenet_weights.kerasmodel.h5'"
      ]
     },
     "execution_count": 11,
     "metadata": {},
     "output_type": "execute_result"
    }
   ],
   "source": [
    "from shutil import copyfile\n",
    "copyfile('lenet_weights.kerasmodel.h5', os.path.join(client_image_root,\"lenet_weights.kerasmodel.h5\"))"
   ]
  },
  {
   "cell_type": "markdown",
   "metadata": {},
   "source": [
    "## Populate the SAS Deep Learning Model with Trained Parameters\n",
    "\n",
    "Up to this point, the SAS Deep Learning model contains parameters that were initialized using the default settings that were supplied when the model was created in the preceding step. Now we will import the trained parameters from the Keras model and install them into the SAS Viya model. The weighted parameter file is called `lenet_weights.kerasmodel.h5` and it should be downloaded and stored in a subdirectory to the server path specfication you stored earlier in the variable `server_image_root`.\n",
    "\n",
    "It is also a good idea at this time to apply labels to the output of the classification layer. The layers should be consistent with the labels that we will shortly apply to the test images. The label file is called `mnist_labels.csv` and it can be downloaded from the [SAS DLPy example folder for Keras examples](https://github.com/sassoftware/python-dlpy/tree/master/examples/keras_model_conversion) on GitHub."
   ]
  },
  {
   "cell_type": "code",
   "execution_count": 12,
   "metadata": {},
   "outputs": [
    {
     "name": "stdout",
     "output_type": "stream",
     "text": [
      "NOTE: Cloud Analytic Services made the uploaded file available as table NEW_LABEL_TABLE_AINUGF in caslib CASUSER(chrobi).\n",
      "NOTE: The table NEW_LABEL_TABLE_AINUGF has been created in caslib CASUSER(chrobi) from binary data uploaded to Cloud Analytic Services.\n",
      "NOTE: no dataspec(s) provided - creating image classification model.\n",
      "NOTE: Model weights attached successfully!\n"
     ]
    }
   ],
   "source": [
    "model1.load_weights(path=server_image_root+\"/lenet_weights.kerasmodel.h5\",\n",
    "                    labels=True,\n",
    "                    label_file_name=os.path.join(os.getcwd(),\"mnist_labels.csv\"),\n",
    "                    label_length=1)"
   ]
  },
  {
   "cell_type": "markdown",
   "metadata": {},
   "source": [
    "## Summarize the SAS Deep Learning Model Architecture\n",
    "\n",
    "Please compare the SAS Deep Learning model architecture and parameter count in this summary to the model architecture and parameter count from the Keras model above. The model layers and model layer definitions may differ somewhat between the Keras and SAS Deep Learning models, but the total number of trained parameters in the two models should be identical."
   ]
  },
  {
   "cell_type": "code",
   "execution_count": 13,
   "metadata": {},
   "outputs": [
    {
     "data": {
      "text/html": [
       "<div>\n",
       "<style scoped>\n",
       "    .dataframe tbody tr th:only-of-type {\n",
       "        vertical-align: middle;\n",
       "    }\n",
       "\n",
       "    .dataframe tbody tr th {\n",
       "        vertical-align: top;\n",
       "    }\n",
       "\n",
       "    .dataframe thead th {\n",
       "        text-align: right;\n",
       "    }\n",
       "</style>\n",
       "<table border=\"1\" class=\"dataframe\">\n",
       "  <thead>\n",
       "    <tr style=\"text-align: right;\">\n",
       "      <th></th>\n",
       "      <th>Layer Id</th>\n",
       "      <th>Layer</th>\n",
       "      <th>Type</th>\n",
       "      <th>Kernel Size</th>\n",
       "      <th>Stride</th>\n",
       "      <th>Activation</th>\n",
       "      <th>Output Size</th>\n",
       "      <th>Number of Parameters</th>\n",
       "    </tr>\n",
       "  </thead>\n",
       "  <tbody>\n",
       "    <tr>\n",
       "      <td>0</td>\n",
       "      <td>0</td>\n",
       "      <td>conv2d_1_input</td>\n",
       "      <td>input</td>\n",
       "      <td></td>\n",
       "      <td></td>\n",
       "      <td>None</td>\n",
       "      <td>(28, 28, 1)</td>\n",
       "      <td>(0, 0)</td>\n",
       "    </tr>\n",
       "    <tr>\n",
       "      <td>1</td>\n",
       "      <td>1</td>\n",
       "      <td>conv2d_1</td>\n",
       "      <td>convo</td>\n",
       "      <td>(5, 5)</td>\n",
       "      <td>(1.0, 1.0)</td>\n",
       "      <td>Rectifier</td>\n",
       "      <td>(28, 28, 20)</td>\n",
       "      <td>(500, 20)</td>\n",
       "    </tr>\n",
       "    <tr>\n",
       "      <td>2</td>\n",
       "      <td>2</td>\n",
       "      <td>max_pooling2d_1</td>\n",
       "      <td>pool</td>\n",
       "      <td>(2, 2)</td>\n",
       "      <td>(2.0, 2.0)</td>\n",
       "      <td>Max</td>\n",
       "      <td>(14, 14, 20)</td>\n",
       "      <td>(0, 0)</td>\n",
       "    </tr>\n",
       "    <tr>\n",
       "      <td>3</td>\n",
       "      <td>3</td>\n",
       "      <td>conv2d_2</td>\n",
       "      <td>convo</td>\n",
       "      <td>(5, 5)</td>\n",
       "      <td>(1.0, 1.0)</td>\n",
       "      <td>Rectifier</td>\n",
       "      <td>(14, 14, 50)</td>\n",
       "      <td>(25000, 50)</td>\n",
       "    </tr>\n",
       "    <tr>\n",
       "      <td>4</td>\n",
       "      <td>4</td>\n",
       "      <td>max_pooling2d_2</td>\n",
       "      <td>pool</td>\n",
       "      <td>(2, 2)</td>\n",
       "      <td>(2.0, 2.0)</td>\n",
       "      <td>Max</td>\n",
       "      <td>(7, 7, 50)</td>\n",
       "      <td>(0, 0)</td>\n",
       "    </tr>\n",
       "    <tr>\n",
       "      <td>5</td>\n",
       "      <td>5</td>\n",
       "      <td>dense_1</td>\n",
       "      <td>fc</td>\n",
       "      <td>(2450, 500)</td>\n",
       "      <td></td>\n",
       "      <td>Rectifier</td>\n",
       "      <td>500</td>\n",
       "      <td>(1225000, 500)</td>\n",
       "    </tr>\n",
       "    <tr>\n",
       "      <td>6</td>\n",
       "      <td>6</td>\n",
       "      <td>dense_2</td>\n",
       "      <td>output</td>\n",
       "      <td>(500, 10)</td>\n",
       "      <td></td>\n",
       "      <td>Softmax</td>\n",
       "      <td>10</td>\n",
       "      <td>(5000, 10)</td>\n",
       "    </tr>\n",
       "    <tr>\n",
       "      <td>7</td>\n",
       "      <td></td>\n",
       "      <td></td>\n",
       "      <td></td>\n",
       "      <td></td>\n",
       "      <td></td>\n",
       "      <td></td>\n",
       "      <td></td>\n",
       "      <td>1256080</td>\n",
       "    </tr>\n",
       "  </tbody>\n",
       "</table>\n",
       "</div>"
      ],
      "text/plain": [
       "  Layer Id            Layer    Type  Kernel Size      Stride Activation  \\\n",
       "0        0   conv2d_1_input   input                                None   \n",
       "1        1         conv2d_1   convo       (5, 5)  (1.0, 1.0)  Rectifier   \n",
       "2        2  max_pooling2d_1    pool       (2, 2)  (2.0, 2.0)        Max   \n",
       "3        3         conv2d_2   convo       (5, 5)  (1.0, 1.0)  Rectifier   \n",
       "4        4  max_pooling2d_2    pool       (2, 2)  (2.0, 2.0)        Max   \n",
       "5        5          dense_1      fc  (2450, 500)              Rectifier   \n",
       "6        6          dense_2  output    (500, 10)                Softmax   \n",
       "7                                                                         \n",
       "\n",
       "    Output Size Number of Parameters  \n",
       "0   (28, 28, 1)               (0, 0)  \n",
       "1  (28, 28, 20)            (500, 20)  \n",
       "2  (14, 14, 20)               (0, 0)  \n",
       "3  (14, 14, 50)          (25000, 50)  \n",
       "4    (7, 7, 50)               (0, 0)  \n",
       "5           500       (1225000, 500)  \n",
       "6            10           (5000, 10)  \n",
       "7                            1256080  "
      ]
     },
     "metadata": {},
     "output_type": "display_data"
    }
   ],
   "source": [
    "model1.print_summary()"
   ]
  },
  {
   "cell_type": "markdown",
   "metadata": {},
   "source": [
    "## Load the MNIST Image Classification Test Data\n",
    "\n",
    "You will need to provide a path to your environment's server path in order to load the MNIST test data images. This example uses the SERVER_IMAGE_ROOT server path variable that you specified earlier in this example."
   ]
  },
  {
   "cell_type": "code",
   "execution_count": 14,
   "metadata": {},
   "outputs": [],
   "source": [
    "# import SAS DLPy simple image processing functions\n",
    "from dlpy.images import ImageTable\n",
    "\n",
    "# load the MNIST image classification model test data images\n",
    "my_images = ImageTable.load_files(s, path=server_image_root)"
   ]
  },
  {
   "cell_type": "markdown",
   "metadata": {},
   "source": [
    "## Verify Appearance of Test Data Images\n",
    "\n",
    "After loading the MNIST model test data images into the SAS Viya model in DLPy, display a matrix of 8 random images arranged in 4 columns. Verify that the test images resemble various hand-written Arabic numerals."
   ]
  },
  {
   "cell_type": "code",
   "execution_count": 15,
   "metadata": {},
   "outputs": [
    {
     "data": {
      "image/png": "[encoded data removed]",
      "text/plain": [
       "<Figure size 1152x864 with 8 Axes>"
      ]
     },
     "metadata": {},
     "output_type": "display_data"
    }
   ],
   "source": [
    "my_images.show(nimages=8,ncol=4, randomize=True)"
   ]
  },
  {
   "cell_type": "markdown",
   "metadata": {},
   "source": [
    "## Score the Test Images with the SAS Deep Learning Model\n",
    "\n",
    "Now use the SAS DLPy `predict()` function to score the test images using the Deep Learning classification model `model1`."
   ]
  },
  {
   "cell_type": "code",
   "execution_count": 16,
   "metadata": {},
   "outputs": [
    {
     "name": "stdout",
     "output_type": "stream",
     "text": [
      "                         Descr         Value\n",
      "0  Number of Observations Read         10000\n",
      "1  Number of Observations Used         10000\n",
      "2  Misclassification Error (%)          1.28\n",
      "3                   Loss Error      0.037126\n"
     ]
    }
   ],
   "source": [
    "# score images\n",
    "viya_score = model1.predict(my_images, buffer_size=batch_size, n_threads=1)\n",
    "print(viya_score['ScoreInfo'])"
   ]
  },
  {
   "cell_type": "markdown",
   "metadata": {},
   "source": [
    "## Verify the Results\n",
    "\n",
    "Compare the classification results generated by the Keras model and the imported SAS Viya model.\n",
    "These results should be identical (or nearly so).  Note that the Keras model reports classification rate, while the SAS Deep Learning model reports misclassification rate. To compare classification rates, subtract the Deep Learning misclassification rate from 100. \n",
    "\n",
    "The code below calculates the classification rate in terms of the percent of images correctly classified.  The output shows that the original Keras image classification model and the imported SAS Deep Learning image classification model deliver identical classification performance."
   ]
  },
  {
   "cell_type": "code",
   "execution_count": 17,
   "metadata": {},
   "outputs": [
    {
     "name": "stdout",
     "output_type": "stream",
     "text": [
      "Viya classification rate = 98.72%\n",
      "Keras classification rate = 98.75%\n"
     ]
    }
   ],
   "source": [
    "print('Viya classification rate = ' + \"{:2.2f}\".format(100.0-float(viya_score['ScoreInfo']['Value'][2])) + '%')\n",
    "print('Keras classification rate = ' + \"{:2.2f}\".format(100.0*score[1]) + '%')"
   ]
  }
 ],
 "metadata": {
  "kernelspec": {
   "display_name": "Python 3",
   "language": "python",
   "name": "python3"
  },
  "language_info": {
   "codemirror_mode": {
    "name": "ipython",
    "version": 3
   },
   "file_extension": ".py",
   "mimetype": "text/x-python",
   "name": "python",
   "nbconvert_exporter": "python",
   "pygments_lexer": "ipython3",
   "version": "3.7.4"
  }
 },
 "nbformat": 4,
 "nbformat_minor": 2
}
