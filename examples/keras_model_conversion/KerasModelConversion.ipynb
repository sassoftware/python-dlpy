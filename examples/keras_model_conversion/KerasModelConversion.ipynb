{
 "cells": [
  {
   "cell_type": "markdown",
   "metadata": {},
   "source": [
    "# Import and Define Keras MNIST Classification Model, Convert to SAS Deep Learning MNIST Classification Model\n"
   ]
  },
  {
   "cell_type": "markdown",
   "metadata": {},
   "source": [
    "You can use the SAS DLPy API to download and import a wide variety of pre-trained deep learning models. Access to a collection of pre-trained deep learning models is a good thing! Pre-trained deep neural networks represent significant savings in compute and development time, as well as enhancing developer productivity. \n",
    " the\n",
    "Numerous Keras model libraries exist on the web. Here is one example: (https://github.com/fchollet/keras-resources).\n",
    "\n",
    "The following example code uses SAS DLPy to create a Keras model named `model0` that classifies gray-scale images of handwritten numeric digits from the [MNIST database](http://yann.lecun.com/exdb/mnist/). \n",
    "\n",
    "First, the example creates a Keras MNIST image classification model. Next, the example uses SAS DLPy utilities to convert the Keras model `model0` into a SAS Deep Learning model named `model1` that runs in the SAS Viya environment.\n",
    "\n",
    "This example assumes that you have the SAS DLPy API installed, the Python Keras API installed, and that you have an active SAS CAS server. "
   ]
  },
  {
   "cell_type": "markdown",
   "metadata": {},
   "source": [
    "[Configure Python Utilities](#Configure_Python)\n",
    "\n",
    "[Configure CAS and Import SWAT](#Configure_CAS)\n",
    "\n",
    "[Define a MNIST Classification Model in Keras](#Define_MNIST)\n",
    "\n",
    "[Convert Keras Model to SAS Deep Learning Mode](#Convert_Keras)\n"
   ]
  },
  {
   "cell_type": "markdown",
   "metadata": {},
   "source": [
    "<a id='Configure_Python'></a>"
   ]
  },
  {
   "cell_type": "markdown",
   "metadata": {},
   "source": [
    "### Configure Python Utilities "
   ]
  },
  {
   "cell_type": "markdown",
   "metadata": {},
   "source": [
    "This step calls the Python matplotlib module and configures it to display plotted outputs within the Jupyter notebook cells."
   ]
  },
  {
   "cell_type": "code",
   "execution_count": 1,
   "metadata": {},
   "outputs": [],
   "source": [
    "%matplotlib inline"
   ]
  },
  {
   "cell_type": "markdown",
   "metadata": {},
   "source": [
    "<a id='Configure_CAS'></a>"
   ]
  },
  {
   "cell_type": "markdown",
   "metadata": {},
   "source": [
    "### Configure SAS CAS and Import SWAT"
   ]
  },
  {
   "cell_type": "markdown",
   "metadata": {},
   "source": [
    "The following code configures your SAS CAS session for deep learning tasks. \n",
    "\n",
    "First, import SWAT. SWAT is the SAS Scripting Wrapper for Analytics Transfer. SWAT is the Python interface to SAS CAS that enables you to load data into memory and apply CAS actions to the data.\n",
    "\n",
    "<b>Note:</b> For more information about starting a CAS session with the SWAT package, see https://sassoftware.github.io/python-swat/getting-started.html."
   ]
  },
  {
   "cell_type": "code",
   "execution_count": 2,
   "metadata": {
    "scrolled": true
   },
   "outputs": [
    {
     "name": "stdout",
     "output_type": "stream",
     "text": [
      "NOTE: Added action set 'deepLearn'.\n"
     ]
    },
    {
     "data": {
      "text/html": [
       "<div class=\"cas-results-key\"><b>&#167; actionset</b></div>\n",
       "<div class=\"cas-results-body\">\n",
       "<div>deepLearn</div>\n",
       "</div>\n",
       "<div class=\"cas-output-area\"></div>\n",
       "<p class=\"cas-results-performance\"><small><span class=\"cas-elapsed\">elapsed 0.00252s</span> &#183; <span class=\"cas-user\">user 0.000629s</span> &#183; <span class=\"cas-sys\">sys 0.00188s</span> &#183; <span class=\"cas-memory\">mem 0.205MB</span></small></p>"
      ],
      "text/plain": [
       "[actionset]\n",
       "\n",
       " 'deepLearn'\n",
       "\n",
       "+ Elapsed: 0.00252s, user: 0.000629s, sys: 0.00188s, mem: 0.205mb"
      ]
     },
     "execution_count": 2,
     "metadata": {},
     "output_type": "execute_result"
    }
   ],
   "source": [
    "import swat\n",
    "\n",
    "host_name='your-qualified.server-name.com'\n",
    "\n",
    "port_number='12345' # use a unique 5-digit port ID\n",
    "\n",
    "s = swat.CAS('host_name', 'port_number')\n",
    "\n",
    "\n",
    "# Required for DLPY prior to v1.2\n",
    "s.loadactionset('deepLearn')"
   ]
  },
  {
   "cell_type": "markdown",
   "metadata": {},
   "source": [
    "<a id='Define_MNIST'></a>"
   ]
  },
  {
   "cell_type": "markdown",
   "metadata": {},
   "source": [
    "### Define a MNIST Classification Model in Keras"
   ]
  },
  {
   "cell_type": "markdown",
   "metadata": {},
   "source": [
    "The following section creates a Keras model that performs a MNIST (Modified National Institute of Standards and Technology) classification task by identifying handwritten digits. The MNIST database consists of images of handwritten digits. The MNIST database is an open-source database that is used to train various machine learning models."
   ]
  },
  {
   "cell_type": "code",
   "execution_count": 3,
   "metadata": {},
   "outputs": [
    {
     "name": "stderr",
     "output_type": "stream",
     "text": [
      "Using TensorFlow backend.\n"
     ]
    }
   ],
   "source": [
    "import warnings\n",
    "warnings.simplefilter(action='ignore', category=FutureWarning)\n",
    "\n",
    "from keras.models import Sequential\n",
    "from keras.layers import *"
   ]
  },
  {
   "cell_type": "markdown",
   "metadata": {},
   "source": [
    "Now use the Keras `Sequential()` function to create a CNN network designed to classify images of MNIST digits. \n",
    "\n",
    "To define the CNN network, begin with the input layer. Use `add()` to specify a 2-D convolutional input layer that has 32 nodes, a kernel_size of (5, 5), and a stride of (1, 1). The Conv2-D layer uses the `relu` activation function. Image padding should be the `same` for top, right, bottom, and left sides of images. \n",
    "*Note:* The SAS DLPy API currently supports only `same` image padding. The Keras input shape defines the input image channels. \n",
    "\n",
    "The training data for this model consists of monochrome images (1 channel) that are 28 pixels tall and 28 pixels wide. Keras defines this input shape as (28, 28, 1). The 2-D convolutional input layer is paired with a 2-D max pooling layer of size (2, 2), and stride of (2, 2). The max pooling layer also utilizes `same` image padding. \n",
    "\n",
    "Then the convolution and pooling combo is repeated (with more filters in the second pair). After the convolution and pooling layers, two dense layers are added; one dense layer with 1,000 neurons, and the last dense layer which has 10 neurons, which corresponds with the total number of classes in the MNIST training and test data sets.\n",
    "\n",
    "The following Keras code creates a sequential CNN model named `model0`, using the architectures described above:"
   ]
  },
  {
   "cell_type": "code",
   "execution_count": 4,
   "metadata": {},
   "outputs": [],
   "source": [
    "model0 = Sequential()\n",
    "model0.add(Conv2D(32, kernel_size=(5, 5), strides=(1, 1),\n",
    "                 activation='relu',padding='same',\n",
    "                 input_shape=(28,28,1)))\n",
    "model0.add(MaxPooling2D(pool_size=(2, 2), padding='same', strides=(2, 2)))\n",
    "model0.add(Conv2D(64, (5, 5), padding='same', activation='relu'))\n",
    "model0.add(MaxPooling2D(pool_size=(2, 2), padding='same'))\n",
    "model0.add(Flatten())\n",
    "model0.add(Dense(1000, activation='relu'))\n",
    "model0.add(Dense(10, activation='softmax'))"
   ]
  },
  {
   "cell_type": "markdown",
   "metadata": {},
   "source": [
    "After creating `model0`, use the `summary()` function to generate a table that describes the `model0` layer types, output shapes, and number of parameters: "
   ]
  },
  {
   "cell_type": "code",
   "execution_count": 5,
   "metadata": {},
   "outputs": [
    {
     "name": "stdout",
     "output_type": "stream",
     "text": [
      "Model: \"sequential_1\"\n",
      "_________________________________________________________________\n",
      "Layer (type)                 Output Shape              Param #   \n",
      "=================================================================\n",
      "conv2d_1 (Conv2D)            (None, 28, 28, 32)        832       \n",
      "_________________________________________________________________\n",
      "max_pooling2d_1 (MaxPooling2 (None, 14, 14, 32)        0         \n",
      "_________________________________________________________________\n",
      "conv2d_2 (Conv2D)            (None, 14, 14, 64)        51264     \n",
      "_________________________________________________________________\n",
      "max_pooling2d_2 (MaxPooling2 (None, 7, 7, 64)          0         \n",
      "_________________________________________________________________\n",
      "flatten_1 (Flatten)          (None, 3136)              0         \n",
      "_________________________________________________________________\n",
      "dense_1 (Dense)              (None, 1000)              3137000   \n",
      "_________________________________________________________________\n",
      "dense_2 (Dense)              (None, 10)                10010     \n",
      "=================================================================\n",
      "Total params: 3,199,106\n",
      "Trainable params: 3,199,106\n",
      "Non-trainable params: 0\n",
      "_________________________________________________________________\n"
     ]
    }
   ],
   "source": [
    "model0.summary()"
   ]
  },
  {
   "cell_type": "markdown",
   "metadata": {},
   "source": [
    "The Keras model `model0` has 7 layers and approximately 3.2 million parameters.\n",
    "\n"
   ]
  },
  {
   "cell_type": "markdown",
   "metadata": {},
   "source": [
    "<a id='Convert_Keras'></a>"
   ]
  },
  {
   "cell_type": "markdown",
   "metadata": {},
   "source": [
    "### Convert Keras Model to SAS Deep Learning Model"
   ]
  },
  {
   "cell_type": "markdown",
   "metadata": {},
   "source": [
    "Now convert the Keras model to a SAS DLPy model. Converting from a Keras model to a DLPy model enables all of the related DLPy deep learning model functions. Begin by importing the DLPy model function class:"
   ]
  },
  {
   "cell_type": "code",
   "execution_count": 6,
   "metadata": {},
   "outputs": [],
   "source": [
    "from dlpy import Model"
   ]
  },
  {
   "cell_type": "markdown",
   "metadata": {},
   "source": [
    "Now use the SAS DLPy `from_keras_model()` function to create the SAS Deep Learning model named `model1` from the Keras model named `model0`. The name assigned to the output_model_table variable is `converted_keras_model`."
   ]
  },
  {
   "cell_type": "code",
   "execution_count": 7,
   "metadata": {
    "scrolled": true
   },
   "outputs": [
    {
     "name": "stdout",
     "output_type": "stream",
     "text": [
      "WARNING: could not find layer conv2d_1_input, in model. Translated model may be inaccurate.\n",
      "NOTE: Model table is attached successfully!\n",
      "NOTE: Model is named to \"converted_keras_model\" according to the model name in the table.\n"
     ]
    }
   ],
   "source": [
    "model1,use_gpu = Model.from_keras_model(conn=s, \n",
    "                                        keras_model=model0, \n",
    "                                        output_model_table='converted_keras_model'\n",
    "                                       )"
   ]
  },
  {
   "cell_type": "markdown",
   "metadata": {},
   "source": [
    "The SAS Deep Learning model `model1` has been created from the Keras model `model0`. Now the SAS Deep Learning model named `model1` can be used with all DLPy functions.\n",
    "\n",
    "NOTE: You should not be concerned about the warning in the example output. In this case, it is expected, because the Keras model input layer did not have a name. The warning simply informs users that a name has been created for the Viya model input layer.\n",
    "\n",
    "Now, use the DLPy `print_summary()` function to generate a table that shows model architecture by layer type, kernel size, stride, activation function, output size, and number of parameters: "
   ]
  },
  {
   "cell_type": "code",
   "execution_count": 8,
   "metadata": {},
   "outputs": [
    {
     "data": {
      "text/html": [
       "<div>\n",
       "<style scoped>\n",
       "    .dataframe tbody tr th:only-of-type {\n",
       "        vertical-align: middle;\n",
       "    }\n",
       "\n",
       "    .dataframe tbody tr th {\n",
       "        vertical-align: top;\n",
       "    }\n",
       "\n",
       "    .dataframe thead th {\n",
       "        text-align: right;\n",
       "    }\n",
       "</style>\n",
       "<table border=\"1\" class=\"dataframe\">\n",
       "  <thead>\n",
       "    <tr style=\"text-align: right;\">\n",
       "      <th></th>\n",
       "      <th>Layer Id</th>\n",
       "      <th>Layer</th>\n",
       "      <th>Type</th>\n",
       "      <th>Kernel Size</th>\n",
       "      <th>Stride</th>\n",
       "      <th>Activation</th>\n",
       "      <th>Output Size</th>\n",
       "      <th>Number of Parameters</th>\n",
       "    </tr>\n",
       "  </thead>\n",
       "  <tbody>\n",
       "    <tr>\n",
       "      <td>0</td>\n",
       "      <td>0</td>\n",
       "      <td>conv2d_1_input</td>\n",
       "      <td>input</td>\n",
       "      <td></td>\n",
       "      <td></td>\n",
       "      <td>None</td>\n",
       "      <td>(28, 28, 1)</td>\n",
       "      <td>(0, 0)</td>\n",
       "    </tr>\n",
       "    <tr>\n",
       "      <td>1</td>\n",
       "      <td>1</td>\n",
       "      <td>conv2d_1</td>\n",
       "      <td>convo</td>\n",
       "      <td>(5, 5)</td>\n",
       "      <td>(1.0, 1.0)</td>\n",
       "      <td>Rectifier</td>\n",
       "      <td>(28, 28, 32)</td>\n",
       "      <td>(800, 32)</td>\n",
       "    </tr>\n",
       "    <tr>\n",
       "      <td>2</td>\n",
       "      <td>2</td>\n",
       "      <td>max_pooling2d_1</td>\n",
       "      <td>pool</td>\n",
       "      <td>(2, 2)</td>\n",
       "      <td>(2.0, 2.0)</td>\n",
       "      <td>Max</td>\n",
       "      <td>(14, 14, 32)</td>\n",
       "      <td>(0, 0)</td>\n",
       "    </tr>\n",
       "    <tr>\n",
       "      <td>3</td>\n",
       "      <td>3</td>\n",
       "      <td>conv2d_2</td>\n",
       "      <td>convo</td>\n",
       "      <td>(5, 5)</td>\n",
       "      <td>(1.0, 1.0)</td>\n",
       "      <td>Rectifier</td>\n",
       "      <td>(14, 14, 64)</td>\n",
       "      <td>(51200, 64)</td>\n",
       "    </tr>\n",
       "    <tr>\n",
       "      <td>4</td>\n",
       "      <td>4</td>\n",
       "      <td>max_pooling2d_2</td>\n",
       "      <td>pool</td>\n",
       "      <td>(2, 2)</td>\n",
       "      <td>(2.0, 2.0)</td>\n",
       "      <td>Max</td>\n",
       "      <td>(7, 7, 64)</td>\n",
       "      <td>(0, 0)</td>\n",
       "    </tr>\n",
       "    <tr>\n",
       "      <td>5</td>\n",
       "      <td>5</td>\n",
       "      <td>dense_1</td>\n",
       "      <td>fc</td>\n",
       "      <td>(3136, 1000)</td>\n",
       "      <td></td>\n",
       "      <td>Rectifier</td>\n",
       "      <td>1000</td>\n",
       "      <td>(3136000, 1000)</td>\n",
       "    </tr>\n",
       "    <tr>\n",
       "      <td>6</td>\n",
       "      <td>6</td>\n",
       "      <td>dense_2</td>\n",
       "      <td>output</td>\n",
       "      <td>(1000, 10)</td>\n",
       "      <td></td>\n",
       "      <td>Softmax</td>\n",
       "      <td>10</td>\n",
       "      <td>(10000, 10)</td>\n",
       "    </tr>\n",
       "    <tr>\n",
       "      <td>7</td>\n",
       "      <td></td>\n",
       "      <td></td>\n",
       "      <td></td>\n",
       "      <td></td>\n",
       "      <td></td>\n",
       "      <td></td>\n",
       "      <td></td>\n",
       "      <td>3199106</td>\n",
       "    </tr>\n",
       "  </tbody>\n",
       "</table>\n",
       "</div>"
      ],
      "text/plain": [
       "  Layer Id            Layer    Type   Kernel Size      Stride Activation  \\\n",
       "0        0   conv2d_1_input   input                                 None   \n",
       "1        1         conv2d_1   convo        (5, 5)  (1.0, 1.0)  Rectifier   \n",
       "2        2  max_pooling2d_1    pool        (2, 2)  (2.0, 2.0)        Max   \n",
       "3        3         conv2d_2   convo        (5, 5)  (1.0, 1.0)  Rectifier   \n",
       "4        4  max_pooling2d_2    pool        (2, 2)  (2.0, 2.0)        Max   \n",
       "5        5          dense_1      fc  (3136, 1000)              Rectifier   \n",
       "6        6          dense_2  output    (1000, 10)                Softmax   \n",
       "7                                                                          \n",
       "\n",
       "    Output Size Number of Parameters  \n",
       "0   (28, 28, 1)               (0, 0)  \n",
       "1  (28, 28, 32)            (800, 32)  \n",
       "2  (14, 14, 32)               (0, 0)  \n",
       "3  (14, 14, 64)          (51200, 64)  \n",
       "4    (7, 7, 64)               (0, 0)  \n",
       "5          1000      (3136000, 1000)  \n",
       "6            10          (10000, 10)  \n",
       "7                            3199106  "
      ]
     },
     "metadata": {},
     "output_type": "display_data"
    }
   ],
   "source": [
    "model1.print_summary()"
   ]
  },
  {
   "cell_type": "markdown",
   "metadata": {},
   "source": [
    "Like the Keras model `model0`, the SAS Deep Learning model `model1` contains the same number and sequence of layers, the same output layer shapes, and contains the same number (~3.2 million) of parameters. \n",
    "\n",
    "You can use the SAS DLPy `plot_network()` function to visualize a DAG diagram of the SAS DLPy `model1` network made by converting the Keras `model0` network."
   ]
  },
  {
   "cell_type": "code",
   "execution_count": 9,
   "metadata": {},
   "outputs": [
    {
     "data": {
      "image/svg+xml": [
       "<?xml version=\"1.0\" encoding=\"UTF-8\" standalone=\"no\"?>\r\n",
       "<!DOCTYPE svg PUBLIC \"-//W3C//DTD SVG 1.1//EN\"\r\n",
       " \"http://www.w3.org/Graphics/SVG/1.1/DTD/svg11.dtd\">\r\n",
       "<!-- Generated by graphviz version 2.38.0 (20140413.2041)\r\n",
       " -->\r\n",
       "<!-- Title: converted_keras_model Pages: 1 -->\r\n",
       "<svg width=\"235pt\" height=\"451pt\"\r\n",
       " viewBox=\"0.00 0.00 235.00 451.00\" xmlns=\"http://www.w3.org/2000/svg\" xmlns:xlink=\"http://www.w3.org/1999/xlink\">\r\n",
       "<g id=\"graph0\" class=\"graph\" transform=\"scale(1 1) rotate(0) translate(4 447)\">\r\n",
       "<title>converted_keras_model</title>\r\n",
       "<polygon fill=\"white\" stroke=\"none\" points=\"-4,4 -4,-447 231,-447 231,4 -4,4\"/>\r\n",
       "<!-- conv2d_1_input -->\r\n",
       "<g id=\"node1\" class=\"node\"><title>conv2d_1_input</title>\r\n",
       "<polygon fill=\"#3288bd\" fill-opacity=\"0.250980\" stroke=\"#3288bd\" points=\"0,-420.5 0,-442.5 227,-442.5 227,-420.5 0,-420.5\"/>\r\n",
       "<text text-anchor=\"middle\" x=\"113.5\" y=\"-427.8\" font-family=\"Helvetica,sans-Serif\" font-size=\"14.00\">28x28x1 conv2d_1_input(input)</text>\r\n",
       "</g>\r\n",
       "<!-- conv2d_1 -->\r\n",
       "<g id=\"node2\" class=\"node\"><title>conv2d_1</title>\r\n",
       "<polygon fill=\"#fee08b\" fill-opacity=\"0.250980\" stroke=\"#b58c15\" points=\"30.5,-350.5 30.5,-372.5 196.5,-372.5 196.5,-350.5 30.5,-350.5\"/>\r\n",
       "<text text-anchor=\"middle\" x=\"113.5\" y=\"-357.8\" font-family=\"Helvetica,sans-Serif\" font-size=\"14.00\">5x5 conv2d_1(convo)</text>\r\n",
       "</g>\r\n",
       "<!-- conv2d_1_input&#45;&gt;conv2d_1 -->\r\n",
       "<g id=\"edge1\" class=\"edge\"><title>conv2d_1_input&#45;&gt;conv2d_1</title>\r\n",
       "<path fill=\"none\" stroke=\"#5677f3\" d=\"M113.5,-420.466C113.5,-410.623 113.5,-395.327 113.5,-382.919\"/>\r\n",
       "<polygon fill=\"#5677f3\" stroke=\"#5677f3\" points=\"117,-382.575 113.5,-372.575 110,-382.575 117,-382.575\"/>\r\n",
       "<text text-anchor=\"middle\" x=\"141\" y=\"-394\" font-family=\"Helvetica,sans-Serif\" font-size=\"10.00\"> 28 x 28 x 1 </text>\r\n",
       "</g>\r\n",
       "<!-- max_pooling2d_1 -->\r\n",
       "<g id=\"node3\" class=\"node\"><title>max_pooling2d_1</title>\r\n",
       "<polygon fill=\"#66c2a5\" fill-opacity=\"0.250980\" stroke=\"#66c2a5\" points=\"10.5,-280.5 10.5,-302.5 216.5,-302.5 216.5,-280.5 10.5,-280.5\"/>\r\n",
       "<text text-anchor=\"middle\" x=\"113.5\" y=\"-287.8\" font-family=\"Helvetica,sans-Serif\" font-size=\"14.00\">2x2 max_pooling2d_1(pool)</text>\r\n",
       "</g>\r\n",
       "<!-- conv2d_1&#45;&gt;max_pooling2d_1 -->\r\n",
       "<g id=\"edge2\" class=\"edge\"><title>conv2d_1&#45;&gt;max_pooling2d_1</title>\r\n",
       "<path fill=\"none\" stroke=\"#5677f3\" d=\"M113.5,-350.466C113.5,-340.623 113.5,-325.327 113.5,-312.919\"/>\r\n",
       "<polygon fill=\"#5677f3\" stroke=\"#5677f3\" points=\"117,-312.575 113.5,-302.575 110,-312.575 117,-312.575\"/>\r\n",
       "<text text-anchor=\"middle\" x=\"144\" y=\"-324\" font-family=\"Helvetica,sans-Serif\" font-size=\"10.00\"> 28 x 28 x 32 </text>\r\n",
       "</g>\r\n",
       "<!-- conv2d_2 -->\r\n",
       "<g id=\"node4\" class=\"node\"><title>conv2d_2</title>\r\n",
       "<polygon fill=\"#fee08b\" fill-opacity=\"0.250980\" stroke=\"#b58c15\" points=\"30.5,-210.5 30.5,-232.5 196.5,-232.5 196.5,-210.5 30.5,-210.5\"/>\r\n",
       "<text text-anchor=\"middle\" x=\"113.5\" y=\"-217.8\" font-family=\"Helvetica,sans-Serif\" font-size=\"14.00\">5x5 conv2d_2(convo)</text>\r\n",
       "</g>\r\n",
       "<!-- max_pooling2d_1&#45;&gt;conv2d_2 -->\r\n",
       "<g id=\"edge3\" class=\"edge\"><title>max_pooling2d_1&#45;&gt;conv2d_2</title>\r\n",
       "<path fill=\"none\" stroke=\"#5677f3\" d=\"M113.5,-280.466C113.5,-270.623 113.5,-255.327 113.5,-242.919\"/>\r\n",
       "<polygon fill=\"#5677f3\" stroke=\"#5677f3\" points=\"117,-242.575 113.5,-232.575 110,-242.575 117,-242.575\"/>\r\n",
       "<text text-anchor=\"middle\" x=\"144\" y=\"-254\" font-family=\"Helvetica,sans-Serif\" font-size=\"10.00\"> 14 x 14 x 32 </text>\r\n",
       "</g>\r\n",
       "<!-- max_pooling2d_2 -->\r\n",
       "<g id=\"node5\" class=\"node\"><title>max_pooling2d_2</title>\r\n",
       "<polygon fill=\"#66c2a5\" fill-opacity=\"0.250980\" stroke=\"#66c2a5\" points=\"10.5,-140.5 10.5,-162.5 216.5,-162.5 216.5,-140.5 10.5,-140.5\"/>\r\n",
       "<text text-anchor=\"middle\" x=\"113.5\" y=\"-147.8\" font-family=\"Helvetica,sans-Serif\" font-size=\"14.00\">2x2 max_pooling2d_2(pool)</text>\r\n",
       "</g>\r\n",
       "<!-- conv2d_2&#45;&gt;max_pooling2d_2 -->\r\n",
       "<g id=\"edge4\" class=\"edge\"><title>conv2d_2&#45;&gt;max_pooling2d_2</title>\r\n",
       "<path fill=\"none\" stroke=\"#5677f3\" d=\"M113.5,-210.466C113.5,-200.623 113.5,-185.327 113.5,-172.919\"/>\r\n",
       "<polygon fill=\"#5677f3\" stroke=\"#5677f3\" points=\"117,-172.575 113.5,-162.575 110,-172.575 117,-172.575\"/>\r\n",
       "<text text-anchor=\"middle\" x=\"144\" y=\"-184\" font-family=\"Helvetica,sans-Serif\" font-size=\"10.00\"> 14 x 14 x 64 </text>\r\n",
       "</g>\r\n",
       "<!-- dense_1 -->\r\n",
       "<g id=\"node6\" class=\"node\"><title>dense_1</title>\r\n",
       "<polygon fill=\"#ffffbf\" fill-opacity=\"0.250980\" stroke=\"#aeae82\" points=\"22.5,-70.5 22.5,-92.5 204.5,-92.5 204.5,-70.5 22.5,-70.5\"/>\r\n",
       "<text text-anchor=\"middle\" x=\"113.5\" y=\"-77.8\" font-family=\"Helvetica,sans-Serif\" font-size=\"14.00\">3136x1000 dense_1(fc)</text>\r\n",
       "</g>\r\n",
       "<!-- max_pooling2d_2&#45;&gt;dense_1 -->\r\n",
       "<g id=\"edge5\" class=\"edge\"><title>max_pooling2d_2&#45;&gt;dense_1</title>\r\n",
       "<path fill=\"none\" stroke=\"#5677f3\" d=\"M113.5,-140.466C113.5,-130.623 113.5,-115.327 113.5,-102.919\"/>\r\n",
       "<polygon fill=\"#5677f3\" stroke=\"#5677f3\" points=\"117,-102.575 113.5,-92.5748 110,-102.575 117,-102.575\"/>\r\n",
       "<text text-anchor=\"middle\" x=\"138.5\" y=\"-114\" font-family=\"Helvetica,sans-Serif\" font-size=\"10.00\"> 7 x 7 x 64 </text>\r\n",
       "</g>\r\n",
       "<!-- dense_2 -->\r\n",
       "<g id=\"node7\" class=\"node\"><title>dense_2</title>\r\n",
       "<polygon fill=\"#5e4fa2\" fill-opacity=\"0.125490\" stroke=\"#5e4fa2\" points=\"17,-0.5 17,-22.5 210,-22.5 210,-0.5 17,-0.5\"/>\r\n",
       "<text text-anchor=\"middle\" x=\"113.5\" y=\"-7.8\" font-family=\"Helvetica,sans-Serif\" font-size=\"14.00\">1000x10 dense_2(output)</text>\r\n",
       "</g>\r\n",
       "<!-- dense_1&#45;&gt;dense_2 -->\r\n",
       "<g id=\"edge6\" class=\"edge\"><title>dense_1&#45;&gt;dense_2</title>\r\n",
       "<path fill=\"none\" stroke=\"#5677f3\" d=\"M113.5,-70.4664C113.5,-60.6231 113.5,-45.327 113.5,-32.9189\"/>\r\n",
       "<polygon fill=\"#5677f3\" stroke=\"#5677f3\" points=\"117,-32.5748 113.5,-22.5748 110,-32.5748 117,-32.5748\"/>\r\n",
       "<text text-anchor=\"middle\" x=\"127.5\" y=\"-44\" font-family=\"Helvetica,sans-Serif\" font-size=\"10.00\"> 1000 </text>\r\n",
       "</g>\r\n",
       "</g>\r\n",
       "</svg>\r\n"
      ],
      "text/plain": [
       "<graphviz.dot.Digraph at 0x181ea0f4908>"
      ]
     },
     "execution_count": 9,
     "metadata": {},
     "output_type": "execute_result"
    }
   ],
   "source": [
    "model1.plot_network()"
   ]
  }
 ],
 "metadata": {
  "anaconda-cloud": {},
  "kernelspec": {
   "display_name": "Python 3",
   "language": "python",
   "name": "python3"
  },
  "language_info": {
   "codemirror_mode": {
    "name": "ipython",
    "version": 3
   },
   "file_extension": ".py",
   "mimetype": "text/x-python",
   "name": "python",
   "nbconvert_exporter": "python",
   "pygments_lexer": "ipython3",
   "version": "3.7.4"
  }
 },
 "nbformat": 4,
 "nbformat_minor": 2
}
